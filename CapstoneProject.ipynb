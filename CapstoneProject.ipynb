{
 "cells": [
  {
   "cell_type": "code",
   "execution_count": 254,
   "id": "68ac7bb8-b6af-4472-b183-0988facd3a40",
   "metadata": {},
   "outputs": [],
   "source": [
    "import pandas as pd\n",
    "import numpy as np\n",
    "import matplotlib.pyplot as plt\n",
    "import seaborn as sns\n",
    "\n",
    "from sklearn.preprocessing import PowerTransformer\n",
    "from imblearn.over_sampling import ADASYN\n",
    "from sklearn.preprocessing import StandardScaler\n",
    "\n",
    "from sklearn import ensemble\n",
    "from sklearn.ensemble import RandomForestClassifier\n",
    "from sklearn import metrics\n",
    "from sklearn import model_selection\n",
    "from sklearn.metrics import roc_curve\n",
    "from sklearn.metrics import RocCurveDisplay\n",
    "from sklearn.metrics import classification_report,confusion_matrix,precision_recall_curve,precision_score,recall_score,f1_score,roc_auc_score\n",
    "from sklearn.model_selection import GridSearchCV"
   ]
  },
  {
   "cell_type": "code",
   "execution_count": 150,
   "id": "d3a896bb-8137-4e60-95ec-717ee5c93b6e",
   "metadata": {},
   "outputs": [],
   "source": [
    "df_train = pd.read_csv('fraudTrain.csv')\n",
    "df_test = pd.read_csv('fraudTest.csv')"
   ]
  },
  {
   "cell_type": "code",
   "execution_count": 151,
   "id": "66662f0e-3132-4a83-bc3e-4113a4132abb",
   "metadata": {},
   "outputs": [
    {
     "data": {
      "text/html": [
       "<div>\n",
       "<style scoped>\n",
       "    .dataframe tbody tr th:only-of-type {\n",
       "        vertical-align: middle;\n",
       "    }\n",
       "\n",
       "    .dataframe tbody tr th {\n",
       "        vertical-align: top;\n",
       "    }\n",
       "\n",
       "    .dataframe thead th {\n",
       "        text-align: right;\n",
       "    }\n",
       "</style>\n",
       "<table border=\"1\" class=\"dataframe\">\n",
       "  <thead>\n",
       "    <tr style=\"text-align: right;\">\n",
       "      <th></th>\n",
       "      <th>Unnamed: 0</th>\n",
       "      <th>trans_date_trans_time</th>\n",
       "      <th>cc_num</th>\n",
       "      <th>merchant</th>\n",
       "      <th>category</th>\n",
       "      <th>amt</th>\n",
       "      <th>first</th>\n",
       "      <th>last</th>\n",
       "      <th>gender</th>\n",
       "      <th>street</th>\n",
       "      <th>...</th>\n",
       "      <th>lat</th>\n",
       "      <th>long</th>\n",
       "      <th>city_pop</th>\n",
       "      <th>job</th>\n",
       "      <th>dob</th>\n",
       "      <th>trans_num</th>\n",
       "      <th>unix_time</th>\n",
       "      <th>merch_lat</th>\n",
       "      <th>merch_long</th>\n",
       "      <th>is_fraud</th>\n",
       "    </tr>\n",
       "  </thead>\n",
       "  <tbody>\n",
       "    <tr>\n",
       "      <th>0</th>\n",
       "      <td>0</td>\n",
       "      <td>2019-01-01 00:00:18</td>\n",
       "      <td>2703186189652095</td>\n",
       "      <td>fraud_Rippin, Kub and Mann</td>\n",
       "      <td>misc_net</td>\n",
       "      <td>4.97</td>\n",
       "      <td>Jennifer</td>\n",
       "      <td>Banks</td>\n",
       "      <td>F</td>\n",
       "      <td>561 Perry Cove</td>\n",
       "      <td>...</td>\n",
       "      <td>36.0788</td>\n",
       "      <td>-81.1781</td>\n",
       "      <td>3495</td>\n",
       "      <td>Psychologist, counselling</td>\n",
       "      <td>1988-03-09</td>\n",
       "      <td>0b242abb623afc578575680df30655b9</td>\n",
       "      <td>1325376018</td>\n",
       "      <td>36.011293</td>\n",
       "      <td>-82.048315</td>\n",
       "      <td>0</td>\n",
       "    </tr>\n",
       "    <tr>\n",
       "      <th>1</th>\n",
       "      <td>1</td>\n",
       "      <td>2019-01-01 00:00:44</td>\n",
       "      <td>630423337322</td>\n",
       "      <td>fraud_Heller, Gutmann and Zieme</td>\n",
       "      <td>grocery_pos</td>\n",
       "      <td>107.23</td>\n",
       "      <td>Stephanie</td>\n",
       "      <td>Gill</td>\n",
       "      <td>F</td>\n",
       "      <td>43039 Riley Greens Suite 393</td>\n",
       "      <td>...</td>\n",
       "      <td>48.8878</td>\n",
       "      <td>-118.2105</td>\n",
       "      <td>149</td>\n",
       "      <td>Special educational needs teacher</td>\n",
       "      <td>1978-06-21</td>\n",
       "      <td>1f76529f8574734946361c461b024d99</td>\n",
       "      <td>1325376044</td>\n",
       "      <td>49.159047</td>\n",
       "      <td>-118.186462</td>\n",
       "      <td>0</td>\n",
       "    </tr>\n",
       "    <tr>\n",
       "      <th>2</th>\n",
       "      <td>2</td>\n",
       "      <td>2019-01-01 00:00:51</td>\n",
       "      <td>38859492057661</td>\n",
       "      <td>fraud_Lind-Buckridge</td>\n",
       "      <td>entertainment</td>\n",
       "      <td>220.11</td>\n",
       "      <td>Edward</td>\n",
       "      <td>Sanchez</td>\n",
       "      <td>M</td>\n",
       "      <td>594 White Dale Suite 530</td>\n",
       "      <td>...</td>\n",
       "      <td>42.1808</td>\n",
       "      <td>-112.2620</td>\n",
       "      <td>4154</td>\n",
       "      <td>Nature conservation officer</td>\n",
       "      <td>1962-01-19</td>\n",
       "      <td>a1a22d70485983eac12b5b88dad1cf95</td>\n",
       "      <td>1325376051</td>\n",
       "      <td>43.150704</td>\n",
       "      <td>-112.154481</td>\n",
       "      <td>0</td>\n",
       "    </tr>\n",
       "    <tr>\n",
       "      <th>3</th>\n",
       "      <td>3</td>\n",
       "      <td>2019-01-01 00:01:16</td>\n",
       "      <td>3534093764340240</td>\n",
       "      <td>fraud_Kutch, Hermiston and Farrell</td>\n",
       "      <td>gas_transport</td>\n",
       "      <td>45.00</td>\n",
       "      <td>Jeremy</td>\n",
       "      <td>White</td>\n",
       "      <td>M</td>\n",
       "      <td>9443 Cynthia Court Apt. 038</td>\n",
       "      <td>...</td>\n",
       "      <td>46.2306</td>\n",
       "      <td>-112.1138</td>\n",
       "      <td>1939</td>\n",
       "      <td>Patent attorney</td>\n",
       "      <td>1967-01-12</td>\n",
       "      <td>6b849c168bdad6f867558c3793159a81</td>\n",
       "      <td>1325376076</td>\n",
       "      <td>47.034331</td>\n",
       "      <td>-112.561071</td>\n",
       "      <td>0</td>\n",
       "    </tr>\n",
       "    <tr>\n",
       "      <th>4</th>\n",
       "      <td>4</td>\n",
       "      <td>2019-01-01 00:03:06</td>\n",
       "      <td>375534208663984</td>\n",
       "      <td>fraud_Keeling-Crist</td>\n",
       "      <td>misc_pos</td>\n",
       "      <td>41.96</td>\n",
       "      <td>Tyler</td>\n",
       "      <td>Garcia</td>\n",
       "      <td>M</td>\n",
       "      <td>408 Bradley Rest</td>\n",
       "      <td>...</td>\n",
       "      <td>38.4207</td>\n",
       "      <td>-79.4629</td>\n",
       "      <td>99</td>\n",
       "      <td>Dance movement psychotherapist</td>\n",
       "      <td>1986-03-28</td>\n",
       "      <td>a41d7549acf90789359a9aa5346dcb46</td>\n",
       "      <td>1325376186</td>\n",
       "      <td>38.674999</td>\n",
       "      <td>-78.632459</td>\n",
       "      <td>0</td>\n",
       "    </tr>\n",
       "  </tbody>\n",
       "</table>\n",
       "<p>5 rows × 23 columns</p>\n",
       "</div>"
      ],
      "text/plain": [
       "   Unnamed: 0 trans_date_trans_time            cc_num  \\\n",
       "0           0   2019-01-01 00:00:18  2703186189652095   \n",
       "1           1   2019-01-01 00:00:44      630423337322   \n",
       "2           2   2019-01-01 00:00:51    38859492057661   \n",
       "3           3   2019-01-01 00:01:16  3534093764340240   \n",
       "4           4   2019-01-01 00:03:06   375534208663984   \n",
       "\n",
       "                             merchant       category     amt      first  \\\n",
       "0          fraud_Rippin, Kub and Mann       misc_net    4.97   Jennifer   \n",
       "1     fraud_Heller, Gutmann and Zieme    grocery_pos  107.23  Stephanie   \n",
       "2                fraud_Lind-Buckridge  entertainment  220.11     Edward   \n",
       "3  fraud_Kutch, Hermiston and Farrell  gas_transport   45.00     Jeremy   \n",
       "4                 fraud_Keeling-Crist       misc_pos   41.96      Tyler   \n",
       "\n",
       "      last gender                        street  ...      lat      long  \\\n",
       "0    Banks      F                561 Perry Cove  ...  36.0788  -81.1781   \n",
       "1     Gill      F  43039 Riley Greens Suite 393  ...  48.8878 -118.2105   \n",
       "2  Sanchez      M      594 White Dale Suite 530  ...  42.1808 -112.2620   \n",
       "3    White      M   9443 Cynthia Court Apt. 038  ...  46.2306 -112.1138   \n",
       "4   Garcia      M              408 Bradley Rest  ...  38.4207  -79.4629   \n",
       "\n",
       "   city_pop                                job         dob  \\\n",
       "0      3495          Psychologist, counselling  1988-03-09   \n",
       "1       149  Special educational needs teacher  1978-06-21   \n",
       "2      4154        Nature conservation officer  1962-01-19   \n",
       "3      1939                    Patent attorney  1967-01-12   \n",
       "4        99     Dance movement psychotherapist  1986-03-28   \n",
       "\n",
       "                          trans_num   unix_time  merch_lat  merch_long  \\\n",
       "0  0b242abb623afc578575680df30655b9  1325376018  36.011293  -82.048315   \n",
       "1  1f76529f8574734946361c461b024d99  1325376044  49.159047 -118.186462   \n",
       "2  a1a22d70485983eac12b5b88dad1cf95  1325376051  43.150704 -112.154481   \n",
       "3  6b849c168bdad6f867558c3793159a81  1325376076  47.034331 -112.561071   \n",
       "4  a41d7549acf90789359a9aa5346dcb46  1325376186  38.674999  -78.632459   \n",
       "\n",
       "   is_fraud  \n",
       "0         0  \n",
       "1         0  \n",
       "2         0  \n",
       "3         0  \n",
       "4         0  \n",
       "\n",
       "[5 rows x 23 columns]"
      ]
     },
     "execution_count": 151,
     "metadata": {},
     "output_type": "execute_result"
    }
   ],
   "source": [
    "df_train.head()"
   ]
  },
  {
   "cell_type": "code",
   "execution_count": 152,
   "id": "ed55f748-6e00-4cd4-91b3-3d483a38a83f",
   "metadata": {},
   "outputs": [
    {
     "name": "stdout",
     "output_type": "stream",
     "text": [
      "<class 'pandas.core.frame.DataFrame'>\n",
      "RangeIndex: 1296675 entries, 0 to 1296674\n",
      "Data columns (total 23 columns):\n",
      " #   Column                 Non-Null Count    Dtype  \n",
      "---  ------                 --------------    -----  \n",
      " 0   Unnamed: 0             1296675 non-null  int64  \n",
      " 1   trans_date_trans_time  1296675 non-null  object \n",
      " 2   cc_num                 1296675 non-null  int64  \n",
      " 3   merchant               1296675 non-null  object \n",
      " 4   category               1296675 non-null  object \n",
      " 5   amt                    1296675 non-null  float64\n",
      " 6   first                  1296675 non-null  object \n",
      " 7   last                   1296675 non-null  object \n",
      " 8   gender                 1296675 non-null  object \n",
      " 9   street                 1296675 non-null  object \n",
      " 10  city                   1296675 non-null  object \n",
      " 11  state                  1296675 non-null  object \n",
      " 12  zip                    1296675 non-null  int64  \n",
      " 13  lat                    1296675 non-null  float64\n",
      " 14  long                   1296675 non-null  float64\n",
      " 15  city_pop               1296675 non-null  int64  \n",
      " 16  job                    1296675 non-null  object \n",
      " 17  dob                    1296675 non-null  object \n",
      " 18  trans_num              1296675 non-null  object \n",
      " 19  unix_time              1296675 non-null  int64  \n",
      " 20  merch_lat              1296675 non-null  float64\n",
      " 21  merch_long             1296675 non-null  float64\n",
      " 22  is_fraud               1296675 non-null  int64  \n",
      "dtypes: float64(5), int64(6), object(12)\n",
      "memory usage: 227.5+ MB\n"
     ]
    }
   ],
   "source": [
    "df_train.info()"
   ]
  },
  {
   "cell_type": "markdown",
   "id": "3a4938e1-b284-402e-86b6-494fa8cd3b32",
   "metadata": {},
   "source": [
    "### Data Cleaning and Preparation"
   ]
  },
  {
   "cell_type": "markdown",
   "id": "e32fc0d2-cb8c-4eeb-a3b4-2c209a637b92",
   "metadata": {},
   "source": [
    "Converting 'trans_date_trans_time' column to date_time type and creating one new column with transaction date"
   ]
  },
  {
   "cell_type": "code",
   "execution_count": 153,
   "id": "49ebe72b-93ae-4a4b-9b21-17fc5f1ada94",
   "metadata": {},
   "outputs": [],
   "source": [
    "\n",
    "df_train['trans_date_trans_time']= pd.to_datetime(df_train['trans_date_trans_time'])\n",
    "df_train['trans_date'] =pd.to_datetime(df_train['trans_date_trans_time'].dt.strftime('%Y-%m-%d'))\n",
    "\n",
    "df_test['trans_date_trans_time']= pd.to_datetime(df_test['trans_date_trans_time'])\n",
    "df_test['trans_date']=pd.to_datetime((df_test['trans_date_trans_time']).dt.strftime('%Y-%m-%d'))"
   ]
  },
  {
   "cell_type": "markdown",
   "id": "312b7b6e-3fbd-4733-a553-45796fcfe693",
   "metadata": {},
   "source": [
    "Converting 'dob' column into date time format"
   ]
  },
  {
   "cell_type": "code",
   "execution_count": 154,
   "id": "78564f19-b7b8-4b46-9d8d-0cd295dea181",
   "metadata": {},
   "outputs": [],
   "source": [
    "df_train['dob'] = pd.to_datetime(df_train['dob'])\n",
    "df_test['dob']= pd.to_datetime(df_test['dob'])"
   ]
  },
  {
   "cell_type": "code",
   "execution_count": 155,
   "id": "29704474-9929-468f-912f-a50bbd5b57e4",
   "metadata": {},
   "outputs": [
    {
     "name": "stdout",
     "output_type": "stream",
     "text": [
      "<class 'pandas.core.frame.DataFrame'>\n",
      "RangeIndex: 1296675 entries, 0 to 1296674\n",
      "Data columns (total 24 columns):\n",
      " #   Column                 Non-Null Count    Dtype         \n",
      "---  ------                 --------------    -----         \n",
      " 0   Unnamed: 0             1296675 non-null  int64         \n",
      " 1   trans_date_trans_time  1296675 non-null  datetime64[ns]\n",
      " 2   cc_num                 1296675 non-null  int64         \n",
      " 3   merchant               1296675 non-null  object        \n",
      " 4   category               1296675 non-null  object        \n",
      " 5   amt                    1296675 non-null  float64       \n",
      " 6   first                  1296675 non-null  object        \n",
      " 7   last                   1296675 non-null  object        \n",
      " 8   gender                 1296675 non-null  object        \n",
      " 9   street                 1296675 non-null  object        \n",
      " 10  city                   1296675 non-null  object        \n",
      " 11  state                  1296675 non-null  object        \n",
      " 12  zip                    1296675 non-null  int64         \n",
      " 13  lat                    1296675 non-null  float64       \n",
      " 14  long                   1296675 non-null  float64       \n",
      " 15  city_pop               1296675 non-null  int64         \n",
      " 16  job                    1296675 non-null  object        \n",
      " 17  dob                    1296675 non-null  datetime64[ns]\n",
      " 18  trans_num              1296675 non-null  object        \n",
      " 19  unix_time              1296675 non-null  int64         \n",
      " 20  merch_lat              1296675 non-null  float64       \n",
      " 21  merch_long             1296675 non-null  float64       \n",
      " 22  is_fraud               1296675 non-null  int64         \n",
      " 23  trans_date             1296675 non-null  datetime64[ns]\n",
      "dtypes: datetime64[ns](3), float64(5), int64(6), object(10)\n",
      "memory usage: 237.4+ MB\n"
     ]
    }
   ],
   "source": [
    "df_train.info()"
   ]
  },
  {
   "cell_type": "markdown",
   "id": "b1209b08-adc4-4c81-a3ff-5f8b97cf153a",
   "metadata": {},
   "source": [
    "Dropping Irrelevant columns which might not be significant for our Analysis\n",
    "\n",
    "\n",
    "Columns which we are dropping : \n",
    "1. Unnamed:0\n",
    "2. cc_num\n",
    "3. first\n",
    "4. last\n",
    "5. street\n",
    "6. zip\n",
    "7.  trans_num\n",
    "8.  unix_time"
   ]
  },
  {
   "cell_type": "code",
   "execution_count": 156,
   "id": "21c55eb6-9e17-4f9b-9b7d-864390e8d4b6",
   "metadata": {},
   "outputs": [],
   "source": [
    "drop_cols = ['Unnamed: 0','cc_num','first','last','street','zip','trans_num','unix_time']"
   ]
  },
  {
   "cell_type": "code",
   "execution_count": 157,
   "id": "c046066d-290b-4f15-afef-552df2e8285e",
   "metadata": {},
   "outputs": [],
   "source": [
    "train_set = df_train.drop(drop_cols,axis=1)\n",
    "test_set = df_test.drop(drop_cols,axis=1)"
   ]
  },
  {
   "cell_type": "code",
   "execution_count": 158,
   "id": "8c5a0604-63d2-47b6-8b4b-383327186bfa",
   "metadata": {},
   "outputs": [
    {
     "data": {
      "text/html": [
       "<div>\n",
       "<style scoped>\n",
       "    .dataframe tbody tr th:only-of-type {\n",
       "        vertical-align: middle;\n",
       "    }\n",
       "\n",
       "    .dataframe tbody tr th {\n",
       "        vertical-align: top;\n",
       "    }\n",
       "\n",
       "    .dataframe thead th {\n",
       "        text-align: right;\n",
       "    }\n",
       "</style>\n",
       "<table border=\"1\" class=\"dataframe\">\n",
       "  <thead>\n",
       "    <tr style=\"text-align: right;\">\n",
       "      <th></th>\n",
       "      <th>trans_date_trans_time</th>\n",
       "      <th>merchant</th>\n",
       "      <th>category</th>\n",
       "      <th>amt</th>\n",
       "      <th>gender</th>\n",
       "      <th>city</th>\n",
       "      <th>state</th>\n",
       "      <th>lat</th>\n",
       "      <th>long</th>\n",
       "      <th>city_pop</th>\n",
       "      <th>job</th>\n",
       "      <th>dob</th>\n",
       "      <th>merch_lat</th>\n",
       "      <th>merch_long</th>\n",
       "      <th>is_fraud</th>\n",
       "      <th>trans_date</th>\n",
       "    </tr>\n",
       "  </thead>\n",
       "  <tbody>\n",
       "    <tr>\n",
       "      <th>0</th>\n",
       "      <td>2019-01-01 00:00:18</td>\n",
       "      <td>fraud_Rippin, Kub and Mann</td>\n",
       "      <td>misc_net</td>\n",
       "      <td>4.97</td>\n",
       "      <td>F</td>\n",
       "      <td>Moravian Falls</td>\n",
       "      <td>NC</td>\n",
       "      <td>36.0788</td>\n",
       "      <td>-81.1781</td>\n",
       "      <td>3495</td>\n",
       "      <td>Psychologist, counselling</td>\n",
       "      <td>1988-03-09</td>\n",
       "      <td>36.011293</td>\n",
       "      <td>-82.048315</td>\n",
       "      <td>0</td>\n",
       "      <td>2019-01-01</td>\n",
       "    </tr>\n",
       "    <tr>\n",
       "      <th>1</th>\n",
       "      <td>2019-01-01 00:00:44</td>\n",
       "      <td>fraud_Heller, Gutmann and Zieme</td>\n",
       "      <td>grocery_pos</td>\n",
       "      <td>107.23</td>\n",
       "      <td>F</td>\n",
       "      <td>Orient</td>\n",
       "      <td>WA</td>\n",
       "      <td>48.8878</td>\n",
       "      <td>-118.2105</td>\n",
       "      <td>149</td>\n",
       "      <td>Special educational needs teacher</td>\n",
       "      <td>1978-06-21</td>\n",
       "      <td>49.159047</td>\n",
       "      <td>-118.186462</td>\n",
       "      <td>0</td>\n",
       "      <td>2019-01-01</td>\n",
       "    </tr>\n",
       "    <tr>\n",
       "      <th>2</th>\n",
       "      <td>2019-01-01 00:00:51</td>\n",
       "      <td>fraud_Lind-Buckridge</td>\n",
       "      <td>entertainment</td>\n",
       "      <td>220.11</td>\n",
       "      <td>M</td>\n",
       "      <td>Malad City</td>\n",
       "      <td>ID</td>\n",
       "      <td>42.1808</td>\n",
       "      <td>-112.2620</td>\n",
       "      <td>4154</td>\n",
       "      <td>Nature conservation officer</td>\n",
       "      <td>1962-01-19</td>\n",
       "      <td>43.150704</td>\n",
       "      <td>-112.154481</td>\n",
       "      <td>0</td>\n",
       "      <td>2019-01-01</td>\n",
       "    </tr>\n",
       "    <tr>\n",
       "      <th>3</th>\n",
       "      <td>2019-01-01 00:01:16</td>\n",
       "      <td>fraud_Kutch, Hermiston and Farrell</td>\n",
       "      <td>gas_transport</td>\n",
       "      <td>45.00</td>\n",
       "      <td>M</td>\n",
       "      <td>Boulder</td>\n",
       "      <td>MT</td>\n",
       "      <td>46.2306</td>\n",
       "      <td>-112.1138</td>\n",
       "      <td>1939</td>\n",
       "      <td>Patent attorney</td>\n",
       "      <td>1967-01-12</td>\n",
       "      <td>47.034331</td>\n",
       "      <td>-112.561071</td>\n",
       "      <td>0</td>\n",
       "      <td>2019-01-01</td>\n",
       "    </tr>\n",
       "    <tr>\n",
       "      <th>4</th>\n",
       "      <td>2019-01-01 00:03:06</td>\n",
       "      <td>fraud_Keeling-Crist</td>\n",
       "      <td>misc_pos</td>\n",
       "      <td>41.96</td>\n",
       "      <td>M</td>\n",
       "      <td>Doe Hill</td>\n",
       "      <td>VA</td>\n",
       "      <td>38.4207</td>\n",
       "      <td>-79.4629</td>\n",
       "      <td>99</td>\n",
       "      <td>Dance movement psychotherapist</td>\n",
       "      <td>1986-03-28</td>\n",
       "      <td>38.674999</td>\n",
       "      <td>-78.632459</td>\n",
       "      <td>0</td>\n",
       "      <td>2019-01-01</td>\n",
       "    </tr>\n",
       "  </tbody>\n",
       "</table>\n",
       "</div>"
      ],
      "text/plain": [
       "  trans_date_trans_time                            merchant       category  \\\n",
       "0   2019-01-01 00:00:18          fraud_Rippin, Kub and Mann       misc_net   \n",
       "1   2019-01-01 00:00:44     fraud_Heller, Gutmann and Zieme    grocery_pos   \n",
       "2   2019-01-01 00:00:51                fraud_Lind-Buckridge  entertainment   \n",
       "3   2019-01-01 00:01:16  fraud_Kutch, Hermiston and Farrell  gas_transport   \n",
       "4   2019-01-01 00:03:06                 fraud_Keeling-Crist       misc_pos   \n",
       "\n",
       "      amt gender            city state      lat      long  city_pop  \\\n",
       "0    4.97      F  Moravian Falls    NC  36.0788  -81.1781      3495   \n",
       "1  107.23      F          Orient    WA  48.8878 -118.2105       149   \n",
       "2  220.11      M      Malad City    ID  42.1808 -112.2620      4154   \n",
       "3   45.00      M         Boulder    MT  46.2306 -112.1138      1939   \n",
       "4   41.96      M        Doe Hill    VA  38.4207  -79.4629        99   \n",
       "\n",
       "                                 job        dob  merch_lat  merch_long  \\\n",
       "0          Psychologist, counselling 1988-03-09  36.011293  -82.048315   \n",
       "1  Special educational needs teacher 1978-06-21  49.159047 -118.186462   \n",
       "2        Nature conservation officer 1962-01-19  43.150704 -112.154481   \n",
       "3                    Patent attorney 1967-01-12  47.034331 -112.561071   \n",
       "4     Dance movement psychotherapist 1986-03-28  38.674999  -78.632459   \n",
       "\n",
       "   is_fraud trans_date  \n",
       "0         0 2019-01-01  \n",
       "1         0 2019-01-01  \n",
       "2         0 2019-01-01  \n",
       "3         0 2019-01-01  \n",
       "4         0 2019-01-01  "
      ]
     },
     "execution_count": 158,
     "metadata": {},
     "output_type": "execute_result"
    }
   ],
   "source": [
    "train_set.head()"
   ]
  },
  {
   "cell_type": "code",
   "execution_count": 159,
   "id": "859b8517-b2c2-4f39-8f39-9307b27a318d",
   "metadata": {},
   "outputs": [
    {
     "name": "stdout",
     "output_type": "stream",
     "text": [
      "<class 'pandas.core.frame.DataFrame'>\n",
      "RangeIndex: 1296675 entries, 0 to 1296674\n",
      "Data columns (total 16 columns):\n",
      " #   Column                 Non-Null Count    Dtype         \n",
      "---  ------                 --------------    -----         \n",
      " 0   trans_date_trans_time  1296675 non-null  datetime64[ns]\n",
      " 1   merchant               1296675 non-null  object        \n",
      " 2   category               1296675 non-null  object        \n",
      " 3   amt                    1296675 non-null  float64       \n",
      " 4   gender                 1296675 non-null  object        \n",
      " 5   city                   1296675 non-null  object        \n",
      " 6   state                  1296675 non-null  object        \n",
      " 7   lat                    1296675 non-null  float64       \n",
      " 8   long                   1296675 non-null  float64       \n",
      " 9   city_pop               1296675 non-null  int64         \n",
      " 10  job                    1296675 non-null  object        \n",
      " 11  dob                    1296675 non-null  datetime64[ns]\n",
      " 12  merch_lat              1296675 non-null  float64       \n",
      " 13  merch_long             1296675 non-null  float64       \n",
      " 14  is_fraud               1296675 non-null  int64         \n",
      " 15  trans_date             1296675 non-null  datetime64[ns]\n",
      "dtypes: datetime64[ns](3), float64(5), int64(2), object(6)\n",
      "memory usage: 158.3+ MB\n"
     ]
    }
   ],
   "source": [
    "train_set.info()"
   ]
  },
  {
   "cell_type": "markdown",
   "id": "9f4a9159-f4ba-4983-9898-316a75225ab2",
   "metadata": {},
   "source": [
    "### Exploratory Data Analysis"
   ]
  },
  {
   "cell_type": "code",
   "execution_count": 160,
   "id": "60406451-8c68-4f1a-806e-64c67b7c4358",
   "metadata": {},
   "outputs": [],
   "source": [
    "## Checking Imbalance of dataset\n",
    "\n",
    "classes_train = train_set['is_fraud'].value_counts()\n",
    "normal_share_train= classes_train[0]/train_set['is_fraud'].count()*100\n",
    "fraud_share_train= classes_train[1]/train_set['is_fraud'].count()*100"
   ]
  },
  {
   "cell_type": "code",
   "execution_count": 161,
   "id": "445a6a33-e832-4208-ab0b-5fce6fe8f8af",
   "metadata": {},
   "outputs": [
    {
     "name": "stdout",
     "output_type": "stream",
     "text": [
      "99.42113482561166\n",
      "0.5788651743883394\n",
      "is_fraud\n",
      "0    1289169\n",
      "1       7506\n",
      "Name: count, dtype: int64\n"
     ]
    }
   ],
   "source": [
    "print(normal_share_train)\n",
    "print(fraud_share_train)\n",
    "print(classes_train)"
   ]
  },
  {
   "cell_type": "code",
   "execution_count": 162,
   "id": "81858310-ca93-4ca2-8f82-c8fa6294abda",
   "metadata": {},
   "outputs": [],
   "source": [
    "classes_test = test_set['is_fraud'].value_counts()\n",
    "normal_share_test= classes_test[0]/test_set['is_fraud'].count()*100\n",
    "fraud_share_test= classes_test[1]/test_set['is_fraud'].count()*100"
   ]
  },
  {
   "cell_type": "code",
   "execution_count": 163,
   "id": "699de5ff-9177-403a-895b-4285a5c4e764",
   "metadata": {},
   "outputs": [
    {
     "name": "stdout",
     "output_type": "stream",
     "text": [
      "99.61401355721146\n",
      "0.3859864427885316\n",
      "is_fraud\n",
      "0    553574\n",
      "1      2145\n",
      "Name: count, dtype: int64\n"
     ]
    }
   ],
   "source": [
    "print(normal_share_test)\n",
    "print(fraud_share_test)\n",
    "print(classes_test)"
   ]
  },
  {
   "cell_type": "code",
   "execution_count": 164,
   "id": "bfeb6016-f457-4df9-9fc3-fcd77b3d5a4b",
   "metadata": {},
   "outputs": [
    {
     "name": "stderr",
     "output_type": "stream",
     "text": [
      "C:\\ProgramData\\anaconda3\\Lib\\site-packages\\seaborn\\_oldcore.py:1765: FutureWarning: unique with argument that is not not a Series, Index, ExtensionArray, or np.ndarray is deprecated and will raise in a future version.\n",
      "  order = pd.unique(vector)\n"
     ]
    },
    {
     "data": {
      "image/png": "[encoded data removed]",
      "text/plain": [
       "<Figure size 640x480 with 1 Axes>"
      ]
     },
     "metadata": {},
     "output_type": "display_data"
    }
   ],
   "source": [
    "## Plotting Number of Transaction and Percentage of Transaction for Train set\n",
    "sns.barplot(x=['Non Fraudulent','Fraudulent'],y=classes_test)\n",
    "plt.title('Train_Set_Balance')\n",
    "plt.xlabel('Type of Transaction')\n",
    "plt.ylabel('Number of Transactions')\n",
    "plt.annotate(\"{0:.4}%\".format(normal_share_train),(0.2, 0.5), xycoords='axes fraction')\n",
    "plt.annotate(\"{0:.4}%\".format(fraud_share_train),(0.7, 0.5), xycoords='axes fraction')\n",
    "plt.show()"
   ]
  },
  {
   "cell_type": "code",
   "execution_count": 165,
   "id": "f76ea26e-b2ff-4937-b057-ab53c47122d5",
   "metadata": {},
   "outputs": [
    {
     "data": {
      "text/html": [
       "<div>\n",
       "<style scoped>\n",
       "    .dataframe tbody tr th:only-of-type {\n",
       "        vertical-align: middle;\n",
       "    }\n",
       "\n",
       "    .dataframe tbody tr th {\n",
       "        vertical-align: top;\n",
       "    }\n",
       "\n",
       "    .dataframe thead th {\n",
       "        text-align: right;\n",
       "    }\n",
       "</style>\n",
       "<table border=\"1\" class=\"dataframe\">\n",
       "  <thead>\n",
       "    <tr style=\"text-align: right;\">\n",
       "      <th></th>\n",
       "      <th>trans_date_trans_time</th>\n",
       "      <th>merchant</th>\n",
       "      <th>category</th>\n",
       "      <th>amt</th>\n",
       "      <th>gender</th>\n",
       "      <th>city</th>\n",
       "      <th>state</th>\n",
       "      <th>lat</th>\n",
       "      <th>long</th>\n",
       "      <th>city_pop</th>\n",
       "      <th>job</th>\n",
       "      <th>dob</th>\n",
       "      <th>merch_lat</th>\n",
       "      <th>merch_long</th>\n",
       "      <th>is_fraud</th>\n",
       "      <th>trans_date</th>\n",
       "    </tr>\n",
       "  </thead>\n",
       "  <tbody>\n",
       "    <tr>\n",
       "      <th>0</th>\n",
       "      <td>2019-01-01 00:00:18</td>\n",
       "      <td>fraud_Rippin, Kub and Mann</td>\n",
       "      <td>misc_net</td>\n",
       "      <td>4.97</td>\n",
       "      <td>F</td>\n",
       "      <td>Moravian Falls</td>\n",
       "      <td>NC</td>\n",
       "      <td>36.0788</td>\n",
       "      <td>-81.1781</td>\n",
       "      <td>3495</td>\n",
       "      <td>Psychologist, counselling</td>\n",
       "      <td>1988-03-09</td>\n",
       "      <td>36.011293</td>\n",
       "      <td>-82.048315</td>\n",
       "      <td>0</td>\n",
       "      <td>2019-01-01</td>\n",
       "    </tr>\n",
       "    <tr>\n",
       "      <th>1</th>\n",
       "      <td>2019-01-01 00:00:44</td>\n",
       "      <td>fraud_Heller, Gutmann and Zieme</td>\n",
       "      <td>grocery_pos</td>\n",
       "      <td>107.23</td>\n",
       "      <td>F</td>\n",
       "      <td>Orient</td>\n",
       "      <td>WA</td>\n",
       "      <td>48.8878</td>\n",
       "      <td>-118.2105</td>\n",
       "      <td>149</td>\n",
       "      <td>Special educational needs teacher</td>\n",
       "      <td>1978-06-21</td>\n",
       "      <td>49.159047</td>\n",
       "      <td>-118.186462</td>\n",
       "      <td>0</td>\n",
       "      <td>2019-01-01</td>\n",
       "    </tr>\n",
       "    <tr>\n",
       "      <th>2</th>\n",
       "      <td>2019-01-01 00:00:51</td>\n",
       "      <td>fraud_Lind-Buckridge</td>\n",
       "      <td>entertainment</td>\n",
       "      <td>220.11</td>\n",
       "      <td>M</td>\n",
       "      <td>Malad City</td>\n",
       "      <td>ID</td>\n",
       "      <td>42.1808</td>\n",
       "      <td>-112.2620</td>\n",
       "      <td>4154</td>\n",
       "      <td>Nature conservation officer</td>\n",
       "      <td>1962-01-19</td>\n",
       "      <td>43.150704</td>\n",
       "      <td>-112.154481</td>\n",
       "      <td>0</td>\n",
       "      <td>2019-01-01</td>\n",
       "    </tr>\n",
       "    <tr>\n",
       "      <th>3</th>\n",
       "      <td>2019-01-01 00:01:16</td>\n",
       "      <td>fraud_Kutch, Hermiston and Farrell</td>\n",
       "      <td>gas_transport</td>\n",
       "      <td>45.00</td>\n",
       "      <td>M</td>\n",
       "      <td>Boulder</td>\n",
       "      <td>MT</td>\n",
       "      <td>46.2306</td>\n",
       "      <td>-112.1138</td>\n",
       "      <td>1939</td>\n",
       "      <td>Patent attorney</td>\n",
       "      <td>1967-01-12</td>\n",
       "      <td>47.034331</td>\n",
       "      <td>-112.561071</td>\n",
       "      <td>0</td>\n",
       "      <td>2019-01-01</td>\n",
       "    </tr>\n",
       "    <tr>\n",
       "      <th>4</th>\n",
       "      <td>2019-01-01 00:03:06</td>\n",
       "      <td>fraud_Keeling-Crist</td>\n",
       "      <td>misc_pos</td>\n",
       "      <td>41.96</td>\n",
       "      <td>M</td>\n",
       "      <td>Doe Hill</td>\n",
       "      <td>VA</td>\n",
       "      <td>38.4207</td>\n",
       "      <td>-79.4629</td>\n",
       "      <td>99</td>\n",
       "      <td>Dance movement psychotherapist</td>\n",
       "      <td>1986-03-28</td>\n",
       "      <td>38.674999</td>\n",
       "      <td>-78.632459</td>\n",
       "      <td>0</td>\n",
       "      <td>2019-01-01</td>\n",
       "    </tr>\n",
       "  </tbody>\n",
       "</table>\n",
       "</div>"
      ],
      "text/plain": [
       "  trans_date_trans_time                            merchant       category  \\\n",
       "0   2019-01-01 00:00:18          fraud_Rippin, Kub and Mann       misc_net   \n",
       "1   2019-01-01 00:00:44     fraud_Heller, Gutmann and Zieme    grocery_pos   \n",
       "2   2019-01-01 00:00:51                fraud_Lind-Buckridge  entertainment   \n",
       "3   2019-01-01 00:01:16  fraud_Kutch, Hermiston and Farrell  gas_transport   \n",
       "4   2019-01-01 00:03:06                 fraud_Keeling-Crist       misc_pos   \n",
       "\n",
       "      amt gender            city state      lat      long  city_pop  \\\n",
       "0    4.97      F  Moravian Falls    NC  36.0788  -81.1781      3495   \n",
       "1  107.23      F          Orient    WA  48.8878 -118.2105       149   \n",
       "2  220.11      M      Malad City    ID  42.1808 -112.2620      4154   \n",
       "3   45.00      M         Boulder    MT  46.2306 -112.1138      1939   \n",
       "4   41.96      M        Doe Hill    VA  38.4207  -79.4629        99   \n",
       "\n",
       "                                 job        dob  merch_lat  merch_long  \\\n",
       "0          Psychologist, counselling 1988-03-09  36.011293  -82.048315   \n",
       "1  Special educational needs teacher 1978-06-21  49.159047 -118.186462   \n",
       "2        Nature conservation officer 1962-01-19  43.150704 -112.154481   \n",
       "3                    Patent attorney 1967-01-12  47.034331 -112.561071   \n",
       "4     Dance movement psychotherapist 1986-03-28  38.674999  -78.632459   \n",
       "\n",
       "   is_fraud trans_date  \n",
       "0         0 2019-01-01  \n",
       "1         0 2019-01-01  \n",
       "2         0 2019-01-01  \n",
       "3         0 2019-01-01  \n",
       "4         0 2019-01-01  "
      ]
     },
     "execution_count": 165,
     "metadata": {},
     "output_type": "execute_result"
    }
   ],
   "source": [
    "train_set.head()"
   ]
  },
  {
   "cell_type": "code",
   "execution_count": 166,
   "id": "c27c6021-ca03-4238-8b43-f840405808c3",
   "metadata": {},
   "outputs": [],
   "source": [
    "## Deriving Age of the individual when transaction is done\n",
    "\n",
    "train_set['age'] = train_set['trans_date']- train_set['dob']\n",
    "train_set['age'] = round(train_set['age'].dt.total_seconds() / (365.25 * 24 * 60 * 60))\n",
    "\n",
    "\n",
    "test_set['age'] = test_set['trans_date']- test_set['dob']\n",
    "test_set['age'] = round(test_set['age'].dt.total_seconds() / (365.25 * 24 * 60 * 60))"
   ]
  },
  {
   "cell_type": "code",
   "execution_count": 167,
   "id": "f5a1752c-ea1c-46cb-a033-2f49aa8f77f8",
   "metadata": {},
   "outputs": [],
   "source": [
    "### Creating Function for Calculating Distance between card holder location and merchant location\n",
    "### As latitude and longitudes and mentioned in degrees we will first convert it to radians\n",
    "def calculate_distance(row):\n",
    "    # Convert degrees to radians\n",
    "    customer_lat_rad = np.radians(row['lat'])\n",
    "    customer_long_rad = np.radians(row['long'])\n",
    "    merc_lat_rad = np.radians(row['merch_lat'])\n",
    "    merc_long_rad = np.radians(row['merch_long'])\n",
    "    \n",
    "    # Earth's radius (mean radius in kilometers)\n",
    "    R = 6371\n",
    "    \n",
    "    # Calculate Euclidean distance considering spherical coordinates\n",
    "    distance = R * np.sqrt(\n",
    "        (customer_lat_rad - merc_lat_rad) ** 2 +\n",
    "        (customer_long_rad - merc_long_rad) ** 2\n",
    "    )\n",
    "    distance = round(distance,2)\n",
    "    return distance"
   ]
  },
  {
   "cell_type": "code",
   "execution_count": 168,
   "id": "0b998e4a-e14c-4d8a-8ee6-f22fe353e8ee",
   "metadata": {},
   "outputs": [],
   "source": [
    "train_set['distance'] = train_set.apply(calculate_distance, axis=1)"
   ]
  },
  {
   "cell_type": "code",
   "execution_count": 169,
   "id": "6a3d132e-8a03-42c9-9ae7-82f8f8ab64c8",
   "metadata": {},
   "outputs": [],
   "source": [
    "test_set['distance'] = test_set.apply(calculate_distance,axis=1)"
   ]
  },
  {
   "cell_type": "code",
   "execution_count": 170,
   "id": "20787df3-37a8-4569-9412-40dc74c5ffe5",
   "metadata": {},
   "outputs": [],
   "source": [
    "### Deriving Month of the Transaction from Transaction Date column\n",
    "train_set['trans_month'] = train_set['trans_date'].dt.month\n",
    "test_set['trans_month'] = test_set['trans_date'].dt.month"
   ]
  },
  {
   "cell_type": "code",
   "execution_count": 171,
   "id": "18eaf866-24c5-4911-86cb-598f5ec5e81b",
   "metadata": {},
   "outputs": [
    {
     "name": "stdout",
     "output_type": "stream",
     "text": [
      "<class 'pandas.core.frame.DataFrame'>\n",
      "RangeIndex: 1296675 entries, 0 to 1296674\n",
      "Data columns (total 19 columns):\n",
      " #   Column                 Non-Null Count    Dtype         \n",
      "---  ------                 --------------    -----         \n",
      " 0   trans_date_trans_time  1296675 non-null  datetime64[ns]\n",
      " 1   merchant               1296675 non-null  object        \n",
      " 2   category               1296675 non-null  object        \n",
      " 3   amt                    1296675 non-null  float64       \n",
      " 4   gender                 1296675 non-null  object        \n",
      " 5   city                   1296675 non-null  object        \n",
      " 6   state                  1296675 non-null  object        \n",
      " 7   lat                    1296675 non-null  float64       \n",
      " 8   long                   1296675 non-null  float64       \n",
      " 9   city_pop               1296675 non-null  int64         \n",
      " 10  job                    1296675 non-null  object        \n",
      " 11  dob                    1296675 non-null  datetime64[ns]\n",
      " 12  merch_lat              1296675 non-null  float64       \n",
      " 13  merch_long             1296675 non-null  float64       \n",
      " 14  is_fraud               1296675 non-null  int64         \n",
      " 15  trans_date             1296675 non-null  datetime64[ns]\n",
      " 16  age                    1296675 non-null  float64       \n",
      " 17  distance               1296675 non-null  float64       \n",
      " 18  trans_month            1296675 non-null  int32         \n",
      "dtypes: datetime64[ns](3), float64(7), int32(1), int64(2), object(6)\n",
      "memory usage: 183.0+ MB\n"
     ]
    }
   ],
   "source": [
    "train_set.info()"
   ]
  },
  {
   "cell_type": "code",
   "execution_count": 172,
   "id": "eb2c301e-b33a-44a0-b337-e6ae839a3159",
   "metadata": {},
   "outputs": [
    {
     "data": {
      "text/html": [
       "<div>\n",
       "<style scoped>\n",
       "    .dataframe tbody tr th:only-of-type {\n",
       "        vertical-align: middle;\n",
       "    }\n",
       "\n",
       "    .dataframe tbody tr th {\n",
       "        vertical-align: top;\n",
       "    }\n",
       "\n",
       "    .dataframe thead th {\n",
       "        text-align: right;\n",
       "    }\n",
       "</style>\n",
       "<table border=\"1\" class=\"dataframe\">\n",
       "  <thead>\n",
       "    <tr style=\"text-align: right;\">\n",
       "      <th></th>\n",
       "      <th>trans_date_trans_time</th>\n",
       "      <th>amt</th>\n",
       "      <th>lat</th>\n",
       "      <th>long</th>\n",
       "      <th>city_pop</th>\n",
       "      <th>dob</th>\n",
       "      <th>merch_lat</th>\n",
       "      <th>merch_long</th>\n",
       "      <th>is_fraud</th>\n",
       "      <th>trans_date</th>\n",
       "      <th>age</th>\n",
       "      <th>distance</th>\n",
       "      <th>trans_month</th>\n",
       "    </tr>\n",
       "  </thead>\n",
       "  <tbody>\n",
       "    <tr>\n",
       "      <th>count</th>\n",
       "      <td>1296675</td>\n",
       "      <td>1.296675e+06</td>\n",
       "      <td>1.296675e+06</td>\n",
       "      <td>1.296675e+06</td>\n",
       "      <td>1.296675e+06</td>\n",
       "      <td>1296675</td>\n",
       "      <td>1.296675e+06</td>\n",
       "      <td>1.296675e+06</td>\n",
       "      <td>1.296675e+06</td>\n",
       "      <td>1296675</td>\n",
       "      <td>1.296675e+06</td>\n",
       "      <td>1.296675e+06</td>\n",
       "      <td>1.296675e+06</td>\n",
       "    </tr>\n",
       "    <tr>\n",
       "      <th>mean</th>\n",
       "      <td>2019-10-03 12:47:28.070214144</td>\n",
       "      <td>7.035104e+01</td>\n",
       "      <td>3.853762e+01</td>\n",
       "      <td>-9.022634e+01</td>\n",
       "      <td>8.882444e+04</td>\n",
       "      <td>1973-10-03 19:02:55.017178512</td>\n",
       "      <td>3.853734e+01</td>\n",
       "      <td>-9.022646e+01</td>\n",
       "      <td>5.788652e-03</td>\n",
       "      <td>2019-10-02 23:29:11.362831872</td>\n",
       "      <td>4.599746e+01</td>\n",
       "      <td>8.513763e+01</td>\n",
       "      <td>6.142150e+00</td>\n",
       "    </tr>\n",
       "    <tr>\n",
       "      <th>min</th>\n",
       "      <td>2019-01-01 00:00:18</td>\n",
       "      <td>1.000000e+00</td>\n",
       "      <td>2.002710e+01</td>\n",
       "      <td>-1.656723e+02</td>\n",
       "      <td>2.300000e+01</td>\n",
       "      <td>1924-10-30 00:00:00</td>\n",
       "      <td>1.902779e+01</td>\n",
       "      <td>-1.666712e+02</td>\n",
       "      <td>0.000000e+00</td>\n",
       "      <td>2019-01-01 00:00:00</td>\n",
       "      <td>1.400000e+01</td>\n",
       "      <td>3.000000e-02</td>\n",
       "      <td>1.000000e+00</td>\n",
       "    </tr>\n",
       "    <tr>\n",
       "      <th>25%</th>\n",
       "      <td>2019-06-03 19:12:22.500000</td>\n",
       "      <td>9.650000e+00</td>\n",
       "      <td>3.462050e+01</td>\n",
       "      <td>-9.679800e+01</td>\n",
       "      <td>7.430000e+02</td>\n",
       "      <td>1962-08-13 00:00:00</td>\n",
       "      <td>3.473357e+01</td>\n",
       "      <td>-9.689728e+01</td>\n",
       "      <td>0.000000e+00</td>\n",
       "      <td>2019-06-03 00:00:00</td>\n",
       "      <td>3.300000e+01</td>\n",
       "      <td>6.282000e+01</td>\n",
       "      <td>3.000000e+00</td>\n",
       "    </tr>\n",
       "    <tr>\n",
       "      <th>50%</th>\n",
       "      <td>2019-10-03 07:35:47</td>\n",
       "      <td>4.752000e+01</td>\n",
       "      <td>3.935430e+01</td>\n",
       "      <td>-8.747690e+01</td>\n",
       "      <td>2.456000e+03</td>\n",
       "      <td>1975-11-30 00:00:00</td>\n",
       "      <td>3.936568e+01</td>\n",
       "      <td>-8.743839e+01</td>\n",
       "      <td>0.000000e+00</td>\n",
       "      <td>2019-10-03 00:00:00</td>\n",
       "      <td>4.400000e+01</td>\n",
       "      <td>8.877000e+01</td>\n",
       "      <td>6.000000e+00</td>\n",
       "    </tr>\n",
       "    <tr>\n",
       "      <th>75%</th>\n",
       "      <td>2020-01-28 15:02:55.500000</td>\n",
       "      <td>8.314000e+01</td>\n",
       "      <td>4.194040e+01</td>\n",
       "      <td>-8.015800e+01</td>\n",
       "      <td>2.032800e+04</td>\n",
       "      <td>1987-02-22 00:00:00</td>\n",
       "      <td>4.195716e+01</td>\n",
       "      <td>-8.023680e+01</td>\n",
       "      <td>0.000000e+00</td>\n",
       "      <td>2020-01-28 00:00:00</td>\n",
       "      <td>5.700000e+01</td>\n",
       "      <td>1.087000e+02</td>\n",
       "      <td>9.000000e+00</td>\n",
       "    </tr>\n",
       "    <tr>\n",
       "      <th>90%</th>\n",
       "      <td>2020-05-02 11:09:19.800000</td>\n",
       "      <td>1.366700e+02</td>\n",
       "      <td>4.444770e+01</td>\n",
       "      <td>-7.497810e+01</td>\n",
       "      <td>1.861400e+05</td>\n",
       "      <td>1994-03-13 00:00:00</td>\n",
       "      <td>4.449305e+01</td>\n",
       "      <td>-7.493290e+01</td>\n",
       "      <td>0.000000e+00</td>\n",
       "      <td>2020-05-02 00:00:00</td>\n",
       "      <td>7.100000e+01</td>\n",
       "      <td>1.240200e+02</td>\n",
       "      <td>1.200000e+01</td>\n",
       "    </tr>\n",
       "    <tr>\n",
       "      <th>99%</th>\n",
       "      <td>2020-06-16 06:16:26.040000</td>\n",
       "      <td>5.459926e+02</td>\n",
       "      <td>4.847860e+01</td>\n",
       "      <td>-7.034570e+01</td>\n",
       "      <td>1.577385e+06</td>\n",
       "      <td>2003-05-07 00:00:00</td>\n",
       "      <td>4.857791e+01</td>\n",
       "      <td>-7.038504e+01</td>\n",
       "      <td>0.000000e+00</td>\n",
       "      <td>2020-06-16 00:00:00</td>\n",
       "      <td>9.100000e+01</td>\n",
       "      <td>1.463200e+02</td>\n",
       "      <td>1.200000e+01</td>\n",
       "    </tr>\n",
       "    <tr>\n",
       "      <th>max</th>\n",
       "      <td>2020-06-21 12:13:37</td>\n",
       "      <td>2.894890e+04</td>\n",
       "      <td>6.669330e+01</td>\n",
       "      <td>-6.795030e+01</td>\n",
       "      <td>2.906700e+06</td>\n",
       "      <td>2005-01-29 00:00:00</td>\n",
       "      <td>6.751027e+01</td>\n",
       "      <td>-6.695090e+01</td>\n",
       "      <td>1.000000e+00</td>\n",
       "      <td>2020-06-21 00:00:00</td>\n",
       "      <td>9.600000e+01</td>\n",
       "      <td>1.571600e+02</td>\n",
       "      <td>1.200000e+01</td>\n",
       "    </tr>\n",
       "    <tr>\n",
       "      <th>std</th>\n",
       "      <td>NaN</td>\n",
       "      <td>1.603160e+02</td>\n",
       "      <td>5.075808e+00</td>\n",
       "      <td>1.375908e+01</td>\n",
       "      <td>3.019564e+05</td>\n",
       "      <td>NaN</td>\n",
       "      <td>5.109788e+00</td>\n",
       "      <td>1.377109e+01</td>\n",
       "      <td>7.586269e-02</td>\n",
       "      <td>NaN</td>\n",
       "      <td>1.739607e+01</td>\n",
       "      <td>3.166258e+01</td>\n",
       "      <td>3.417703e+00</td>\n",
       "    </tr>\n",
       "  </tbody>\n",
       "</table>\n",
       "</div>"
      ],
      "text/plain": [
       "               trans_date_trans_time           amt           lat  \\\n",
       "count                        1296675  1.296675e+06  1.296675e+06   \n",
       "mean   2019-10-03 12:47:28.070214144  7.035104e+01  3.853762e+01   \n",
       "min              2019-01-01 00:00:18  1.000000e+00  2.002710e+01   \n",
       "25%       2019-06-03 19:12:22.500000  9.650000e+00  3.462050e+01   \n",
       "50%              2019-10-03 07:35:47  4.752000e+01  3.935430e+01   \n",
       "75%       2020-01-28 15:02:55.500000  8.314000e+01  4.194040e+01   \n",
       "90%       2020-05-02 11:09:19.800000  1.366700e+02  4.444770e+01   \n",
       "99%       2020-06-16 06:16:26.040000  5.459926e+02  4.847860e+01   \n",
       "max              2020-06-21 12:13:37  2.894890e+04  6.669330e+01   \n",
       "std                              NaN  1.603160e+02  5.075808e+00   \n",
       "\n",
       "               long      city_pop                            dob  \\\n",
       "count  1.296675e+06  1.296675e+06                        1296675   \n",
       "mean  -9.022634e+01  8.882444e+04  1973-10-03 19:02:55.017178512   \n",
       "min   -1.656723e+02  2.300000e+01            1924-10-30 00:00:00   \n",
       "25%   -9.679800e+01  7.430000e+02            1962-08-13 00:00:00   \n",
       "50%   -8.747690e+01  2.456000e+03            1975-11-30 00:00:00   \n",
       "75%   -8.015800e+01  2.032800e+04            1987-02-22 00:00:00   \n",
       "90%   -7.497810e+01  1.861400e+05            1994-03-13 00:00:00   \n",
       "99%   -7.034570e+01  1.577385e+06            2003-05-07 00:00:00   \n",
       "max   -6.795030e+01  2.906700e+06            2005-01-29 00:00:00   \n",
       "std    1.375908e+01  3.019564e+05                            NaN   \n",
       "\n",
       "          merch_lat    merch_long      is_fraud  \\\n",
       "count  1.296675e+06  1.296675e+06  1.296675e+06   \n",
       "mean   3.853734e+01 -9.022646e+01  5.788652e-03   \n",
       "min    1.902779e+01 -1.666712e+02  0.000000e+00   \n",
       "25%    3.473357e+01 -9.689728e+01  0.000000e+00   \n",
       "50%    3.936568e+01 -8.743839e+01  0.000000e+00   \n",
       "75%    4.195716e+01 -8.023680e+01  0.000000e+00   \n",
       "90%    4.449305e+01 -7.493290e+01  0.000000e+00   \n",
       "99%    4.857791e+01 -7.038504e+01  0.000000e+00   \n",
       "max    6.751027e+01 -6.695090e+01  1.000000e+00   \n",
       "std    5.109788e+00  1.377109e+01  7.586269e-02   \n",
       "\n",
       "                          trans_date           age      distance   trans_month  \n",
       "count                        1296675  1.296675e+06  1.296675e+06  1.296675e+06  \n",
       "mean   2019-10-02 23:29:11.362831872  4.599746e+01  8.513763e+01  6.142150e+00  \n",
       "min              2019-01-01 00:00:00  1.400000e+01  3.000000e-02  1.000000e+00  \n",
       "25%              2019-06-03 00:00:00  3.300000e+01  6.282000e+01  3.000000e+00  \n",
       "50%              2019-10-03 00:00:00  4.400000e+01  8.877000e+01  6.000000e+00  \n",
       "75%              2020-01-28 00:00:00  5.700000e+01  1.087000e+02  9.000000e+00  \n",
       "90%              2020-05-02 00:00:00  7.100000e+01  1.240200e+02  1.200000e+01  \n",
       "99%              2020-06-16 00:00:00  9.100000e+01  1.463200e+02  1.200000e+01  \n",
       "max              2020-06-21 00:00:00  9.600000e+01  1.571600e+02  1.200000e+01  \n",
       "std                              NaN  1.739607e+01  3.166258e+01  3.417703e+00  "
      ]
     },
     "execution_count": 172,
     "metadata": {},
     "output_type": "execute_result"
    }
   ],
   "source": [
    "train_set.describe(percentiles=[0.25,0.50,0.75,0.90,0.99])"
   ]
  },
  {
   "cell_type": "code",
   "execution_count": 173,
   "id": "dc3a70d4-9dea-4f62-9349-83c175ddceed",
   "metadata": {},
   "outputs": [],
   "source": [
    "numerical_cols = train_set.select_dtypes(include=['float64', 'int64']).columns.tolist()\n",
    "categorical_cols = train_set.select_dtypes(include=['object']).columns.tolist()"
   ]
  },
  {
   "cell_type": "code",
   "execution_count": 174,
   "id": "b52b5d46-b53f-4255-b684-f88337c61139",
   "metadata": {},
   "outputs": [
    {
     "data": {
      "text/plain": [
       "['amt',\n",
       " 'lat',\n",
       " 'long',\n",
       " 'city_pop',\n",
       " 'merch_lat',\n",
       " 'merch_long',\n",
       " 'is_fraud',\n",
       " 'age',\n",
       " 'distance']"
      ]
     },
     "execution_count": 174,
     "metadata": {},
     "output_type": "execute_result"
    }
   ],
   "source": [
    "numerical_cols"
   ]
  },
  {
   "cell_type": "code",
   "execution_count": 175,
   "id": "b5b85173-36fb-492c-8350-8d860a21d61d",
   "metadata": {},
   "outputs": [
    {
     "data": {
      "image/png": "[encoded data removed]",
      "text/plain": [
       "<Figure size 640x480 with 1 Axes>"
      ]
     },
     "metadata": {},
     "output_type": "display_data"
    }
   ],
   "source": [
    "sns.boxplot(x=train_set.is_fraud,y=train_set.amt)\n",
    "plt.show()"
   ]
  },
  {
   "cell_type": "code",
   "execution_count": 176,
   "id": "f99b1cd1-647f-4437-a6c1-da78abf9a20a",
   "metadata": {},
   "outputs": [
    {
     "name": "stderr",
     "output_type": "stream",
     "text": [
      "C:\\ProgramData\\anaconda3\\Lib\\site-packages\\seaborn\\_oldcore.py:1119: FutureWarning: use_inf_as_na option is deprecated and will be removed in a future version. Convert inf values to NaN before operating instead.\n",
      "  with pd.option_context('mode.use_inf_as_na', True):\n"
     ]
    },
    {
     "data": {
      "image/png": "[encoded data removed]",
      "text/plain": [
       "<Figure size 640x480 with 1 Axes>"
      ]
     },
     "metadata": {},
     "output_type": "display_data"
    }
   ],
   "source": [
    "sns.histplot(x=train_set.amt,kde=True)\n",
    "plt.show()"
   ]
  },
  {
   "cell_type": "code",
   "execution_count": 177,
   "id": "3a1665e5-2e2d-4e68-8cf4-f0b3a3b44289",
   "metadata": {},
   "outputs": [
    {
     "data": {
      "image/png": "[encoded data removed]",
      "text/plain": [
       "<Figure size 640x480 with 1 Axes>"
      ]
     },
     "metadata": {},
     "output_type": "display_data"
    }
   ],
   "source": [
    "sns.boxplot(x=train_set.is_fraud,y=train_set.city_pop)\n",
    "plt.show()"
   ]
  },
  {
   "cell_type": "code",
   "execution_count": 178,
   "id": "4af11b5f-e240-45dd-858f-17867e6dbd93",
   "metadata": {},
   "outputs": [
    {
     "name": "stderr",
     "output_type": "stream",
     "text": [
      "C:\\ProgramData\\anaconda3\\Lib\\site-packages\\seaborn\\_oldcore.py:1119: FutureWarning: use_inf_as_na option is deprecated and will be removed in a future version. Convert inf values to NaN before operating instead.\n",
      "  with pd.option_context('mode.use_inf_as_na', True):\n"
     ]
    },
    {
     "data": {
      "image/png": "[encoded data removed]",
      "text/plain": [
       "<Figure size 640x480 with 1 Axes>"
      ]
     },
     "metadata": {},
     "output_type": "display_data"
    }
   ],
   "source": [
    "sns.histplot(x=train_set.city_pop,kde=True)\n",
    "plt.show()"
   ]
  },
  {
   "cell_type": "code",
   "execution_count": 179,
   "id": "9e4900f6-0d87-4ba1-8066-48557eab0bb6",
   "metadata": {},
   "outputs": [
    {
     "data": {
      "image/png": "[encoded data removed]",
      "text/plain": [
       "<Figure size 640x480 with 1 Axes>"
      ]
     },
     "metadata": {},
     "output_type": "display_data"
    }
   ],
   "source": [
    "sns.boxplot(x=train_set.is_fraud,y=train_set.age)\n",
    "plt.show()"
   ]
  },
  {
   "cell_type": "code",
   "execution_count": 180,
   "id": "cbc0659d-1005-4dc9-80be-6c43db4b8f35",
   "metadata": {},
   "outputs": [
    {
     "name": "stderr",
     "output_type": "stream",
     "text": [
      "C:\\ProgramData\\anaconda3\\Lib\\site-packages\\seaborn\\_oldcore.py:1119: FutureWarning: use_inf_as_na option is deprecated and will be removed in a future version. Convert inf values to NaN before operating instead.\n",
      "  with pd.option_context('mode.use_inf_as_na', True):\n"
     ]
    },
    {
     "data": {
      "image/png": "[encoded data removed]",
      "text/plain": [
       "<Figure size 640x480 with 1 Axes>"
      ]
     },
     "metadata": {},
     "output_type": "display_data"
    }
   ],
   "source": [
    "sns.histplot(x=train_set.age,bins=10,kde=True)\n",
    "plt.show()"
   ]
  },
  {
   "cell_type": "code",
   "execution_count": 181,
   "id": "bba05add-302f-4d99-b404-079d0bc48df9",
   "metadata": {},
   "outputs": [
    {
     "data": {
      "image/png": "[encoded data removed]",
      "text/plain": [
       "<Figure size 640x480 with 1 Axes>"
      ]
     },
     "metadata": {},
     "output_type": "display_data"
    }
   ],
   "source": [
    "sns.boxplot(x=train_set.is_fraud,y=train_set.distance)\n",
    "plt.show()"
   ]
  },
  {
   "cell_type": "code",
   "execution_count": 182,
   "id": "5d4eafbe-38b4-4666-b48c-68fecc1550a9",
   "metadata": {},
   "outputs": [
    {
     "name": "stderr",
     "output_type": "stream",
     "text": [
      "C:\\ProgramData\\anaconda3\\Lib\\site-packages\\seaborn\\_oldcore.py:1119: FutureWarning: use_inf_as_na option is deprecated and will be removed in a future version. Convert inf values to NaN before operating instead.\n",
      "  with pd.option_context('mode.use_inf_as_na', True):\n"
     ]
    },
    {
     "data": {
      "image/png": "[encoded data removed]",
      "text/plain": [
       "<Figure size 640x480 with 1 Axes>"
      ]
     },
     "metadata": {},
     "output_type": "display_data"
    }
   ],
   "source": [
    "sns.histplot(x=train_set.distance,bins=10,kde=True)\n",
    "plt.show()"
   ]
  },
  {
   "cell_type": "code",
   "execution_count": 183,
   "id": "d5ebe169-827c-46c2-a0a4-149053b2514a",
   "metadata": {},
   "outputs": [
    {
     "data": {
      "text/plain": [
       "['merchant', 'category', 'gender', 'city', 'state', 'job']"
      ]
     },
     "execution_count": 183,
     "metadata": {},
     "output_type": "execute_result"
    }
   ],
   "source": [
    "categorical_cols"
   ]
  },
  {
   "cell_type": "code",
   "execution_count": 184,
   "id": "1dedfcc4-51bd-435c-a01d-151445091bc5",
   "metadata": {},
   "outputs": [
    {
     "data": {
      "image/png": "[encoded data removed]",
      "text/plain": [
       "<Figure size 640x480 with 1 Axes>"
      ]
     },
     "metadata": {},
     "output_type": "display_data"
    }
   ],
   "source": [
    "train_set.groupby(['gender'])['is_fraud'].sum().sort_values().plot.bar()\n",
    "plt.title('Fradulent Transaction distribution according to Gender')\n",
    "plt.xlabel('Genders')\n",
    "plt.xticks(rotation=0)\n",
    "plt.ylabel('Count of Fraudulent Transaction')\n",
    "plt.show()"
   ]
  },
  {
   "cell_type": "code",
   "execution_count": 185,
   "id": "35264402-a2d8-4f13-a48c-f07c05de0ffe",
   "metadata": {},
   "outputs": [
    {
     "data": {
      "image/png": "[encoded data removed]",
      "text/plain": [
       "<Figure size 640x480 with 1 Axes>"
      ]
     },
     "metadata": {},
     "output_type": "display_data"
    }
   ],
   "source": [
    "train_set.groupby(['category'])['is_fraud'].sum().sort_values(ascending=False).plot.bar()\n",
    "plt.title('Fradulent Transaction distribution Merchant Category Wise')\n",
    "plt.xlabel('Merchant Category')\n",
    "plt.ylabel('Count of Fraudulent Transaction')\n",
    "plt.show()"
   ]
  },
  {
   "cell_type": "code",
   "execution_count": 186,
   "id": "a3e69fdb-ea2a-4906-8b31-d5de8aa21653",
   "metadata": {},
   "outputs": [
    {
     "data": {
      "image/png": "[encoded data removed]",
      "text/plain": [
       "<Figure size 640x480 with 1 Axes>"
      ]
     },
     "metadata": {},
     "output_type": "display_data"
    }
   ],
   "source": [
    "train_set.groupby(['city'])['is_fraud'].sum().sort_values(ascending=False)[:20].plot.bar()\n",
    "plt.title('Top 20 Cities with Fradulent Transactions')\n",
    "plt.xlabel('Cities')\n",
    "plt.ylabel('Count of Fraudulent Transaction')\n",
    "plt.show()"
   ]
  },
  {
   "cell_type": "code",
   "execution_count": 187,
   "id": "72972100-f3ff-4dd5-9c64-4897514365e6",
   "metadata": {},
   "outputs": [
    {
     "data": {
      "image/png": "[encoded data removed]",
      "text/plain": [
       "<Figure size 640x480 with 1 Axes>"
      ]
     },
     "metadata": {},
     "output_type": "display_data"
    }
   ],
   "source": [
    "train_set.groupby(['state'])['is_fraud'].sum().sort_values(ascending=False)[:20].plot.bar()\n",
    "plt.title('Top 20 States with Fradulent Transactions')\n",
    "plt.xlabel('States')\n",
    "plt.ylabel('Count of Fraudulent Transaction')\n",
    "plt.show()"
   ]
  },
  {
   "cell_type": "code",
   "execution_count": 188,
   "id": "2fa6044c-a77e-4f49-bb93-4a20582be1f1",
   "metadata": {},
   "outputs": [
    {
     "data": {
      "image/png": "[encoded data removed]",
      "text/plain": [
       "<Figure size 640x480 with 1 Axes>"
      ]
     },
     "metadata": {},
     "output_type": "display_data"
    }
   ],
   "source": [
    "train_set.groupby(['job'])['is_fraud'].sum().sort_values(ascending=False)[:20].plot.bar()\n",
    "plt.title('Top 20 Job Types with Fraudulent Transactions ')\n",
    "plt.xlabel('Job Types')\n",
    "plt.ylabel('Count of Fraudulent Transaction')\n",
    "plt.show()"
   ]
  },
  {
   "cell_type": "code",
   "execution_count": 189,
   "id": "c5fb2e57-c06d-4bb9-8534-3219fac93074",
   "metadata": {},
   "outputs": [
    {
     "data": {
      "image/png": "[encoded data removed]",
      "text/plain": [
       "<Figure size 640x480 with 1 Axes>"
      ]
     },
     "metadata": {},
     "output_type": "display_data"
    }
   ],
   "source": [
    "train_set.groupby(['trans_month'])['is_fraud'].sum().plot.bar()\n",
    "plt.title('Months Having More Fradulent Transactions')\n",
    "plt.xlabel('Months')\n",
    "plt.xticks(rotation=0)\n",
    "plt.ylabel('Count of Fraudulent Transaction')\n",
    "plt.show()"
   ]
  },
  {
   "cell_type": "markdown",
   "id": "03343d30-21cf-487c-984f-8b12da588906",
   "metadata": {},
   "source": [
    "### Preparing Data For Model Building"
   ]
  },
  {
   "cell_type": "code",
   "execution_count": 190,
   "id": "5dcc0085-23ee-4c6f-b4dc-a4e9e87234bc",
   "metadata": {},
   "outputs": [
    {
     "data": {
      "text/plain": [
       "trans_date_trans_time    1274791\n",
       "merchant                     693\n",
       "category                      14\n",
       "amt                        52928\n",
       "gender                         2\n",
       "city                         894\n",
       "state                         51\n",
       "lat                          968\n",
       "long                         969\n",
       "city_pop                     879\n",
       "job                          494\n",
       "dob                          968\n",
       "merch_lat                1247805\n",
       "merch_long               1275745\n",
       "is_fraud                       2\n",
       "trans_date                   537\n",
       "age                           83\n",
       "distance                   15620\n",
       "trans_month                   12\n",
       "dtype: int64"
      ]
     },
     "execution_count": 190,
     "metadata": {},
     "output_type": "execute_result"
    }
   ],
   "source": [
    "train_set.nunique()"
   ]
  },
  {
   "cell_type": "code",
   "execution_count": 191,
   "id": "89748cfd-6711-447c-a3fd-e34690e65759",
   "metadata": {},
   "outputs": [],
   "source": [
    "drop_cols2 = ['trans_date_trans_time','merchant','city','state','lat','long','job','dob','merch_lat','merch_long','trans_date']"
   ]
  },
  {
   "cell_type": "code",
   "execution_count": 192,
   "id": "2897dbcd-0500-465d-a64e-d8077774c6f3",
   "metadata": {},
   "outputs": [],
   "source": [
    "train_data = train_set.drop(drop_cols2,axis=1)\n",
    "test_data = test_set.drop(drop_cols2,axis=1)"
   ]
  },
  {
   "cell_type": "code",
   "execution_count": 193,
   "id": "31ff1587-e758-4056-a759-9fea03cc2187",
   "metadata": {},
   "outputs": [],
   "source": [
    "## Mapping on Gender Column\n",
    "\n",
    "train_data['gender'] = train_data['gender'].map({'M':1,'F':0})\n",
    "test_data['gender'] = test_data['gender'].map({'M':1,'F':0})"
   ]
  },
  {
   "cell_type": "code",
   "execution_count": 194,
   "id": "17d103f0-5d24-491f-9fca-c839e962d97f",
   "metadata": {},
   "outputs": [],
   "source": [
    "### Creating Dummy Variables for Category column\n",
    "\n",
    "train_data_final = pd.get_dummies(train_data,columns=['category'],drop_first=True,dtype=int)\n",
    "test_data_final = pd.get_dummies(test_data,columns=['category'],drop_first=True,dtype=int)"
   ]
  },
  {
   "cell_type": "markdown",
   "id": "cd637c98-9abb-4d61-a8c7-1b25fa75144e",
   "metadata": {},
   "source": [
    "##### MODEL BUILDING"
   ]
  },
  {
   "cell_type": "code",
   "execution_count": 195,
   "id": "d1410d12-0a50-42f2-81ef-cf20764c3533",
   "metadata": {},
   "outputs": [],
   "source": [
    "### Train Test Split\n",
    "\n",
    "X_train = train_data_final.drop(['is_fraud'],axis=1)\n",
    "y_train = train_data_final['is_fraud']\n",
    "\n",
    "X_test = test_data_final.drop(['is_fraud'],axis=1)\n",
    "y_test = test_data_final['is_fraud']"
   ]
  },
  {
   "cell_type": "code",
   "execution_count": 229,
   "id": "15904ac2-afd8-41c2-8e92-250f65780e6c",
   "metadata": {},
   "outputs": [],
   "source": [
    "## Handling Skewness in Data\n",
    "\n",
    "pt = PowerTransformer(copy=False)\n",
    "X_train = pt.fit_transform(X_train)\n",
    "X_test= pt.transform(X_test)"
   ]
  },
  {
   "cell_type": "markdown",
   "id": "087f39f0-aef7-42e8-906d-c946db88966b",
   "metadata": {},
   "source": [
    "### Model-1 : Logistic Regression without Oversampling"
   ]
  },
  {
   "cell_type": "code",
   "execution_count": 237,
   "id": "c48b7130-0521-43ad-907e-926395ae1cfd",
   "metadata": {},
   "outputs": [],
   "source": [
    "from sklearn.linear_model import LogisticRegression"
   ]
  },
  {
   "cell_type": "code",
   "execution_count": 238,
   "id": "79f6c7b2-a7e3-4c8f-8f81-89212e8e43b4",
   "metadata": {},
   "outputs": [],
   "source": [
    "model1 = LogisticRegression()"
   ]
  },
  {
   "cell_type": "code",
   "execution_count": 239,
   "id": "900d7392-6006-4d9c-b8fb-96dd06be4fc6",
   "metadata": {},
   "outputs": [
    {
     "data": {
      "text/html": [
       "<style>#sk-container-id-2 {color: black;background-color: white;}#sk-container-id-2 pre{padding: 0;}#sk-container-id-2 div.sk-toggleable {background-color: white;}#sk-container-id-2 label.sk-toggleable__label {cursor: pointer;display: block;width: 100%;margin-bottom: 0;padding: 0.3em;box-sizing: border-box;text-align: center;}#sk-container-id-2 label.sk-toggleable__label-arrow:before {content: \"▸\";float: left;margin-right: 0.25em;color: #696969;}#sk-container-id-2 label.sk-toggleable__label-arrow:hover:before {color: black;}#sk-container-id-2 div.sk-estimator:hover label.sk-toggleable__label-arrow:before {color: black;}#sk-container-id-2 div.sk-toggleable__content {max-height: 0;max-width: 0;overflow: hidden;text-align: left;background-color: #f0f8ff;}#sk-container-id-2 div.sk-toggleable__content pre {margin: 0.2em;color: black;border-radius: 0.25em;background-color: #f0f8ff;}#sk-container-id-2 input.sk-toggleable__control:checked~div.sk-toggleable__content {max-height: 200px;max-width: 100%;overflow: auto;}#sk-container-id-2 input.sk-toggleable__control:checked~label.sk-toggleable__label-arrow:before {content: \"▾\";}#sk-container-id-2 div.sk-estimator input.sk-toggleable__control:checked~label.sk-toggleable__label {background-color: #d4ebff;}#sk-container-id-2 div.sk-label input.sk-toggleable__control:checked~label.sk-toggleable__label {background-color: #d4ebff;}#sk-container-id-2 input.sk-hidden--visually {border: 0;clip: rect(1px 1px 1px 1px);clip: rect(1px, 1px, 1px, 1px);height: 1px;margin: -1px;overflow: hidden;padding: 0;position: absolute;width: 1px;}#sk-container-id-2 div.sk-estimator {font-family: monospace;background-color: #f0f8ff;border: 1px dotted black;border-radius: 0.25em;box-sizing: border-box;margin-bottom: 0.5em;}#sk-container-id-2 div.sk-estimator:hover {background-color: #d4ebff;}#sk-container-id-2 div.sk-parallel-item::after {content: \"\";width: 100%;border-bottom: 1px solid gray;flex-grow: 1;}#sk-container-id-2 div.sk-label:hover label.sk-toggleable__label {background-color: #d4ebff;}#sk-container-id-2 div.sk-serial::before {content: \"\";position: absolute;border-left: 1px solid gray;box-sizing: border-box;top: 0;bottom: 0;left: 50%;z-index: 0;}#sk-container-id-2 div.sk-serial {display: flex;flex-direction: column;align-items: center;background-color: white;padding-right: 0.2em;padding-left: 0.2em;position: relative;}#sk-container-id-2 div.sk-item {position: relative;z-index: 1;}#sk-container-id-2 div.sk-parallel {display: flex;align-items: stretch;justify-content: center;background-color: white;position: relative;}#sk-container-id-2 div.sk-item::before, #sk-container-id-2 div.sk-parallel-item::before {content: \"\";position: absolute;border-left: 1px solid gray;box-sizing: border-box;top: 0;bottom: 0;left: 50%;z-index: -1;}#sk-container-id-2 div.sk-parallel-item {display: flex;flex-direction: column;z-index: 1;position: relative;background-color: white;}#sk-container-id-2 div.sk-parallel-item:first-child::after {align-self: flex-end;width: 50%;}#sk-container-id-2 div.sk-parallel-item:last-child::after {align-self: flex-start;width: 50%;}#sk-container-id-2 div.sk-parallel-item:only-child::after {width: 0;}#sk-container-id-2 div.sk-dashed-wrapped {border: 1px dashed gray;margin: 0 0.4em 0.5em 0.4em;box-sizing: border-box;padding-bottom: 0.4em;background-color: white;}#sk-container-id-2 div.sk-label label {font-family: monospace;font-weight: bold;display: inline-block;line-height: 1.2em;}#sk-container-id-2 div.sk-label-container {text-align: center;}#sk-container-id-2 div.sk-container {/* jupyter's `normalize.less` sets `[hidden] { display: none; }` but bootstrap.min.css set `[hidden] { display: none !important; }` so we also need the `!important` here to be able to override the default hidden behavior on the sphinx rendered scikit-learn.org. See: https://github.com/scikit-learn/scikit-learn/issues/21755 */display: inline-block !important;position: relative;}#sk-container-id-2 div.sk-text-repr-fallback {display: none;}</style><div id=\"sk-container-id-2\" class=\"sk-top-container\"><div class=\"sk-text-repr-fallback\"><pre>LogisticRegression()</pre><b>In a Jupyter environment, please rerun this cell to show the HTML representation or trust the notebook. <br />On GitHub, the HTML representation is unable to render, please try loading this page with nbviewer.org.</b></div><div class=\"sk-container\" hidden><div class=\"sk-item\"><div class=\"sk-estimator sk-toggleable\"><input class=\"sk-toggleable__control sk-hidden--visually\" id=\"sk-estimator-id-2\" type=\"checkbox\" checked><label for=\"sk-estimator-id-2\" class=\"sk-toggleable__label sk-toggleable__label-arrow\">LogisticRegression</label><div class=\"sk-toggleable__content\"><pre>LogisticRegression()</pre></div></div></div></div></div>"
      ],
      "text/plain": [
       "LogisticRegression()"
      ]
     },
     "execution_count": 239,
     "metadata": {},
     "output_type": "execute_result"
    }
   ],
   "source": [
    "model1.fit(X_train,y_train)"
   ]
  },
  {
   "cell_type": "code",
   "execution_count": 242,
   "id": "33379d31-9be0-455d-9b70-f815758b5ee3",
   "metadata": {},
   "outputs": [],
   "source": [
    "y_train_pred = model1.predict(X_train)"
   ]
  },
  {
   "cell_type": "code",
   "execution_count": 246,
   "id": "6a515b32-86a5-4c79-a2ed-c66cbada66b9",
   "metadata": {},
   "outputs": [
    {
     "name": "stdout",
     "output_type": "stream",
     "text": [
      "Logistic Regression Train Set Report\n",
      "-----------------------------------\n",
      "              precision    recall  f1-score   support\n",
      "\n",
      "           0       0.99      1.00      1.00   1289169\n",
      "           1       0.01      0.00      0.00      7506\n",
      "\n",
      "    accuracy                           0.99   1296675\n",
      "   macro avg       0.50      0.50      0.50   1296675\n",
      "weighted avg       0.99      0.99      0.99   1296675\n",
      "\n"
     ]
    }
   ],
   "source": [
    "print(\"Logistic Regression Train Set Report\")\n",
    "print(\"-----------------------------------\")\n",
    "print(classification_report(y_train,y_train_pred))"
   ]
  },
  {
   "cell_type": "code",
   "execution_count": 255,
   "id": "72d5c544-4cfc-4abc-a6a6-a22cc3c7db33",
   "metadata": {},
   "outputs": [
    {
     "name": "stdout",
     "output_type": "stream",
     "text": [
      "ROC score of Train set: 0.5039217595452775\n"
     ]
    }
   ],
   "source": [
    "print('ROC score of Train set:',roc_auc_score(y_train_pred,y_train))"
   ]
  },
  {
   "cell_type": "markdown",
   "id": "801bee3c-312b-43f8-b49f-de145183aeed",
   "metadata": {},
   "source": [
    "### MODEL-2 : Decision Trees"
   ]
  },
  {
   "cell_type": "code",
   "execution_count": 258,
   "id": "4306cb41-1fed-42f8-9108-f2c27d5f3b3c",
   "metadata": {},
   "outputs": [],
   "source": [
    "from sklearn import tree"
   ]
  },
  {
   "cell_type": "code",
   "execution_count": 304,
   "id": "4bba66dc-9023-4703-89e5-30a848cc4a13",
   "metadata": {},
   "outputs": [],
   "source": [
    "model2= tree.DecisionTreeClassifier(criterion='entropy',max_depth=10,min_samples_leaf=100,min_samples_split=200,random_state=42)"
   ]
  },
  {
   "cell_type": "code",
   "execution_count": 305,
   "id": "7ed38de9-1461-46c0-ba20-116b41c77490",
   "metadata": {},
   "outputs": [
    {
     "data": {
      "text/html": [
       "<style>#sk-container-id-7 {color: black;background-color: white;}#sk-container-id-7 pre{padding: 0;}#sk-container-id-7 div.sk-toggleable {background-color: white;}#sk-container-id-7 label.sk-toggleable__label {cursor: pointer;display: block;width: 100%;margin-bottom: 0;padding: 0.3em;box-sizing: border-box;text-align: center;}#sk-container-id-7 label.sk-toggleable__label-arrow:before {content: \"▸\";float: left;margin-right: 0.25em;color: #696969;}#sk-container-id-7 label.sk-toggleable__label-arrow:hover:before {color: black;}#sk-container-id-7 div.sk-estimator:hover label.sk-toggleable__label-arrow:before {color: black;}#sk-container-id-7 div.sk-toggleable__content {max-height: 0;max-width: 0;overflow: hidden;text-align: left;background-color: #f0f8ff;}#sk-container-id-7 div.sk-toggleable__content pre {margin: 0.2em;color: black;border-radius: 0.25em;background-color: #f0f8ff;}#sk-container-id-7 input.sk-toggleable__control:checked~div.sk-toggleable__content {max-height: 200px;max-width: 100%;overflow: auto;}#sk-container-id-7 input.sk-toggleable__control:checked~label.sk-toggleable__label-arrow:before {content: \"▾\";}#sk-container-id-7 div.sk-estimator input.sk-toggleable__control:checked~label.sk-toggleable__label {background-color: #d4ebff;}#sk-container-id-7 div.sk-label input.sk-toggleable__control:checked~label.sk-toggleable__label {background-color: #d4ebff;}#sk-container-id-7 input.sk-hidden--visually {border: 0;clip: rect(1px 1px 1px 1px);clip: rect(1px, 1px, 1px, 1px);height: 1px;margin: -1px;overflow: hidden;padding: 0;position: absolute;width: 1px;}#sk-container-id-7 div.sk-estimator {font-family: monospace;background-color: #f0f8ff;border: 1px dotted black;border-radius: 0.25em;box-sizing: border-box;margin-bottom: 0.5em;}#sk-container-id-7 div.sk-estimator:hover {background-color: #d4ebff;}#sk-container-id-7 div.sk-parallel-item::after {content: \"\";width: 100%;border-bottom: 1px solid gray;flex-grow: 1;}#sk-container-id-7 div.sk-label:hover label.sk-toggleable__label {background-color: #d4ebff;}#sk-container-id-7 div.sk-serial::before {content: \"\";position: absolute;border-left: 1px solid gray;box-sizing: border-box;top: 0;bottom: 0;left: 50%;z-index: 0;}#sk-container-id-7 div.sk-serial {display: flex;flex-direction: column;align-items: center;background-color: white;padding-right: 0.2em;padding-left: 0.2em;position: relative;}#sk-container-id-7 div.sk-item {position: relative;z-index: 1;}#sk-container-id-7 div.sk-parallel {display: flex;align-items: stretch;justify-content: center;background-color: white;position: relative;}#sk-container-id-7 div.sk-item::before, #sk-container-id-7 div.sk-parallel-item::before {content: \"\";position: absolute;border-left: 1px solid gray;box-sizing: border-box;top: 0;bottom: 0;left: 50%;z-index: -1;}#sk-container-id-7 div.sk-parallel-item {display: flex;flex-direction: column;z-index: 1;position: relative;background-color: white;}#sk-container-id-7 div.sk-parallel-item:first-child::after {align-self: flex-end;width: 50%;}#sk-container-id-7 div.sk-parallel-item:last-child::after {align-self: flex-start;width: 50%;}#sk-container-id-7 div.sk-parallel-item:only-child::after {width: 0;}#sk-container-id-7 div.sk-dashed-wrapped {border: 1px dashed gray;margin: 0 0.4em 0.5em 0.4em;box-sizing: border-box;padding-bottom: 0.4em;background-color: white;}#sk-container-id-7 div.sk-label label {font-family: monospace;font-weight: bold;display: inline-block;line-height: 1.2em;}#sk-container-id-7 div.sk-label-container {text-align: center;}#sk-container-id-7 div.sk-container {/* jupyter's `normalize.less` sets `[hidden] { display: none; }` but bootstrap.min.css set `[hidden] { display: none !important; }` so we also need the `!important` here to be able to override the default hidden behavior on the sphinx rendered scikit-learn.org. See: https://github.com/scikit-learn/scikit-learn/issues/21755 */display: inline-block !important;position: relative;}#sk-container-id-7 div.sk-text-repr-fallback {display: none;}</style><div id=\"sk-container-id-7\" class=\"sk-top-container\"><div class=\"sk-text-repr-fallback\"><pre>DecisionTreeClassifier(criterion=&#x27;entropy&#x27;, max_depth=10, min_samples_leaf=100,\n",
       "                       min_samples_split=200, random_state=42)</pre><b>In a Jupyter environment, please rerun this cell to show the HTML representation or trust the notebook. <br />On GitHub, the HTML representation is unable to render, please try loading this page with nbviewer.org.</b></div><div class=\"sk-container\" hidden><div class=\"sk-item\"><div class=\"sk-estimator sk-toggleable\"><input class=\"sk-toggleable__control sk-hidden--visually\" id=\"sk-estimator-id-7\" type=\"checkbox\" checked><label for=\"sk-estimator-id-7\" class=\"sk-toggleable__label sk-toggleable__label-arrow\">DecisionTreeClassifier</label><div class=\"sk-toggleable__content\"><pre>DecisionTreeClassifier(criterion=&#x27;entropy&#x27;, max_depth=10, min_samples_leaf=100,\n",
       "                       min_samples_split=200, random_state=42)</pre></div></div></div></div></div>"
      ],
      "text/plain": [
       "DecisionTreeClassifier(criterion='entropy', max_depth=10, min_samples_leaf=100,\n",
       "                       min_samples_split=200, random_state=42)"
      ]
     },
     "execution_count": 305,
     "metadata": {},
     "output_type": "execute_result"
    }
   ],
   "source": [
    "model2.fit(X_train,y_train)"
   ]
  },
  {
   "cell_type": "code",
   "execution_count": 307,
   "id": "cd932928-858b-4cd5-a30f-6789235eaa66",
   "metadata": {},
   "outputs": [],
   "source": [
    "y_train_pred = model2.predict(X_train)"
   ]
  },
  {
   "cell_type": "code",
   "execution_count": 308,
   "id": "4c003166-ac0f-42df-87ca-16f24563d129",
   "metadata": {},
   "outputs": [
    {
     "name": "stdout",
     "output_type": "stream",
     "text": [
      "Decision Trees-- Train Set Report\n",
      "-----------------------------------\n",
      "              precision    recall  f1-score   support\n",
      "\n",
      "           0       1.00      1.00      1.00   1289169\n",
      "           1       0.80      0.68      0.74      7506\n",
      "\n",
      "    accuracy                           1.00   1296675\n",
      "   macro avg       0.90      0.84      0.87   1296675\n",
      "weighted avg       1.00      1.00      1.00   1296675\n",
      "\n",
      "ROC score of Train set: 0.8995647396951951\n"
     ]
    }
   ],
   "source": [
    "print(\"Decision Trees-- Train Set Report\")\n",
    "print(\"-----------------------------------\")\n",
    "print(classification_report(y_train,y_train_pred))\n",
    "print('ROC score of Train set:',roc_auc_score(y_train_pred,y_train))"
   ]
  },
  {
   "cell_type": "markdown",
   "id": "ba3ca7f6-088a-42f4-9629-1c6f38882597",
   "metadata": {},
   "source": [
    "#### MODEL-3 : RANDOM FORESTS"
   ]
  },
  {
   "cell_type": "code",
   "execution_count": 309,
   "id": "a9192d76-aeac-4c0d-801c-4a81528c14ef",
   "metadata": {},
   "outputs": [],
   "source": [
    "model3 = RandomForestClassifier(criterion='entropy',max_depth= 10, min_samples_split=100, min_samples_leaf=30, warm_start=True, n_jobs=-1,\n",
    "                                          random_state=40)"
   ]
  },
  {
   "cell_type": "code",
   "execution_count": 310,
   "id": "cce64b22-9a10-449b-a3ff-6360bc59e723",
   "metadata": {},
   "outputs": [
    {
     "data": {
      "text/html": [
       "<style>#sk-container-id-8 {color: black;background-color: white;}#sk-container-id-8 pre{padding: 0;}#sk-container-id-8 div.sk-toggleable {background-color: white;}#sk-container-id-8 label.sk-toggleable__label {cursor: pointer;display: block;width: 100%;margin-bottom: 0;padding: 0.3em;box-sizing: border-box;text-align: center;}#sk-container-id-8 label.sk-toggleable__label-arrow:before {content: \"▸\";float: left;margin-right: 0.25em;color: #696969;}#sk-container-id-8 label.sk-toggleable__label-arrow:hover:before {color: black;}#sk-container-id-8 div.sk-estimator:hover label.sk-toggleable__label-arrow:before {color: black;}#sk-container-id-8 div.sk-toggleable__content {max-height: 0;max-width: 0;overflow: hidden;text-align: left;background-color: #f0f8ff;}#sk-container-id-8 div.sk-toggleable__content pre {margin: 0.2em;color: black;border-radius: 0.25em;background-color: #f0f8ff;}#sk-container-id-8 input.sk-toggleable__control:checked~div.sk-toggleable__content {max-height: 200px;max-width: 100%;overflow: auto;}#sk-container-id-8 input.sk-toggleable__control:checked~label.sk-toggleable__label-arrow:before {content: \"▾\";}#sk-container-id-8 div.sk-estimator input.sk-toggleable__control:checked~label.sk-toggleable__label {background-color: #d4ebff;}#sk-container-id-8 div.sk-label input.sk-toggleable__control:checked~label.sk-toggleable__label {background-color: #d4ebff;}#sk-container-id-8 input.sk-hidden--visually {border: 0;clip: rect(1px 1px 1px 1px);clip: rect(1px, 1px, 1px, 1px);height: 1px;margin: -1px;overflow: hidden;padding: 0;position: absolute;width: 1px;}#sk-container-id-8 div.sk-estimator {font-family: monospace;background-color: #f0f8ff;border: 1px dotted black;border-radius: 0.25em;box-sizing: border-box;margin-bottom: 0.5em;}#sk-container-id-8 div.sk-estimator:hover {background-color: #d4ebff;}#sk-container-id-8 div.sk-parallel-item::after {content: \"\";width: 100%;border-bottom: 1px solid gray;flex-grow: 1;}#sk-container-id-8 div.sk-label:hover label.sk-toggleable__label {background-color: #d4ebff;}#sk-container-id-8 div.sk-serial::before {content: \"\";position: absolute;border-left: 1px solid gray;box-sizing: border-box;top: 0;bottom: 0;left: 50%;z-index: 0;}#sk-container-id-8 div.sk-serial {display: flex;flex-direction: column;align-items: center;background-color: white;padding-right: 0.2em;padding-left: 0.2em;position: relative;}#sk-container-id-8 div.sk-item {position: relative;z-index: 1;}#sk-container-id-8 div.sk-parallel {display: flex;align-items: stretch;justify-content: center;background-color: white;position: relative;}#sk-container-id-8 div.sk-item::before, #sk-container-id-8 div.sk-parallel-item::before {content: \"\";position: absolute;border-left: 1px solid gray;box-sizing: border-box;top: 0;bottom: 0;left: 50%;z-index: -1;}#sk-container-id-8 div.sk-parallel-item {display: flex;flex-direction: column;z-index: 1;position: relative;background-color: white;}#sk-container-id-8 div.sk-parallel-item:first-child::after {align-self: flex-end;width: 50%;}#sk-container-id-8 div.sk-parallel-item:last-child::after {align-self: flex-start;width: 50%;}#sk-container-id-8 div.sk-parallel-item:only-child::after {width: 0;}#sk-container-id-8 div.sk-dashed-wrapped {border: 1px dashed gray;margin: 0 0.4em 0.5em 0.4em;box-sizing: border-box;padding-bottom: 0.4em;background-color: white;}#sk-container-id-8 div.sk-label label {font-family: monospace;font-weight: bold;display: inline-block;line-height: 1.2em;}#sk-container-id-8 div.sk-label-container {text-align: center;}#sk-container-id-8 div.sk-container {/* jupyter's `normalize.less` sets `[hidden] { display: none; }` but bootstrap.min.css set `[hidden] { display: none !important; }` so we also need the `!important` here to be able to override the default hidden behavior on the sphinx rendered scikit-learn.org. See: https://github.com/scikit-learn/scikit-learn/issues/21755 */display: inline-block !important;position: relative;}#sk-container-id-8 div.sk-text-repr-fallback {display: none;}</style><div id=\"sk-container-id-8\" class=\"sk-top-container\"><div class=\"sk-text-repr-fallback\"><pre>RandomForestClassifier(criterion=&#x27;entropy&#x27;, max_depth=10, min_samples_leaf=30,\n",
       "                       min_samples_split=100, n_jobs=-1, random_state=40,\n",
       "                       warm_start=True)</pre><b>In a Jupyter environment, please rerun this cell to show the HTML representation or trust the notebook. <br />On GitHub, the HTML representation is unable to render, please try loading this page with nbviewer.org.</b></div><div class=\"sk-container\" hidden><div class=\"sk-item\"><div class=\"sk-estimator sk-toggleable\"><input class=\"sk-toggleable__control sk-hidden--visually\" id=\"sk-estimator-id-8\" type=\"checkbox\" checked><label for=\"sk-estimator-id-8\" class=\"sk-toggleable__label sk-toggleable__label-arrow\">RandomForestClassifier</label><div class=\"sk-toggleable__content\"><pre>RandomForestClassifier(criterion=&#x27;entropy&#x27;, max_depth=10, min_samples_leaf=30,\n",
       "                       min_samples_split=100, n_jobs=-1, random_state=40,\n",
       "                       warm_start=True)</pre></div></div></div></div></div>"
      ],
      "text/plain": [
       "RandomForestClassifier(criterion='entropy', max_depth=10, min_samples_leaf=30,\n",
       "                       min_samples_split=100, n_jobs=-1, random_state=40,\n",
       "                       warm_start=True)"
      ]
     },
     "execution_count": 310,
     "metadata": {},
     "output_type": "execute_result"
    }
   ],
   "source": [
    "model3.fit(X_train,y_train)"
   ]
  },
  {
   "cell_type": "code",
   "execution_count": 311,
   "id": "615f5dcd-f390-4418-a792-26936151e87a",
   "metadata": {},
   "outputs": [],
   "source": [
    "y_train_pred = model3.predict(X_train)"
   ]
  },
  {
   "cell_type": "code",
   "execution_count": 312,
   "id": "633c77fd-9b6e-4707-af89-8ddc09de1dec",
   "metadata": {},
   "outputs": [
    {
     "name": "stdout",
     "output_type": "stream",
     "text": [
      "Random Forrest-- Train Set Report\n",
      "-----------------------------------\n",
      "              precision    recall  f1-score   support\n",
      "\n",
      "           0       1.00      1.00      1.00   1289169\n",
      "           1       0.91      0.51      0.65      7506\n",
      "\n",
      "    accuracy                           1.00   1296675\n",
      "   macro avg       0.95      0.75      0.82   1296675\n",
      "weighted avg       1.00      1.00      1.00   1296675\n",
      "\n",
      "ROC score of Train set: 0.9523404316252693\n"
     ]
    }
   ],
   "source": [
    "print(\"Random Forrest-- Train Set Report\")\n",
    "print(\"-----------------------------------\")\n",
    "print(classification_report(y_train,y_train_pred))\n",
    "print('ROC score of Train set:',roc_auc_score(y_train_pred,y_train))"
   ]
  },
  {
   "cell_type": "markdown",
   "id": "21e3dd73-b44f-45e3-91f8-ce0889bff1b1",
   "metadata": {},
   "source": [
    "##### Without Oversampling Random Forrest Model is giving Good AUC-ROC score  Train Set\n",
    "##### SAMPLING DATA USING ADASYN"
   ]
  },
  {
   "cell_type": "code",
   "execution_count": 313,
   "id": "37651932-5e2c-411d-89d8-c3b500c7da7d",
   "metadata": {},
   "outputs": [],
   "source": [
    "X_train_res,y_train_res = ADASYN().fit_resample(X_train,y_train)"
   ]
  },
  {
   "cell_type": "code",
   "execution_count": 314,
   "id": "092a5f49-e85b-4709-8f51-c9109cc127f1",
   "metadata": {},
   "outputs": [
    {
     "data": {
      "text/plain": [
       "(2578521, 19)"
      ]
     },
     "execution_count": 314,
     "metadata": {},
     "output_type": "execute_result"
    }
   ],
   "source": [
    "X_train_res.shape"
   ]
  },
  {
   "cell_type": "code",
   "execution_count": 315,
   "id": "1ad8abe6-c8be-43cb-a650-6f1f29a9dcf6",
   "metadata": {},
   "outputs": [
    {
     "data": {
      "text/plain": [
       "(2578521,)"
      ]
     },
     "execution_count": 315,
     "metadata": {},
     "output_type": "execute_result"
    }
   ],
   "source": [
    "y_train_res.shape"
   ]
  },
  {
   "cell_type": "markdown",
   "id": "7c7468af-1299-491c-83c5-337777b36a1e",
   "metadata": {},
   "source": [
    "### MODEL-4 : Random Forrest Model with ADASYN oversampling"
   ]
  },
  {
   "cell_type": "code",
   "execution_count": 339,
   "id": "dea63fea-6c8d-4845-84de-4ccf911f6e42",
   "metadata": {},
   "outputs": [],
   "source": [
    "model4 = RandomForestClassifier(criterion='entropy',max_depth= 10, min_samples_split=100, min_samples_leaf=30, warm_start=True, n_jobs=-1,\n",
    "                                          random_state=40,oob_score=True)"
   ]
  },
  {
   "cell_type": "code",
   "execution_count": 340,
   "id": "b726809a-4583-44e1-89f9-c0e422b0be01",
   "metadata": {},
   "outputs": [
    {
     "data": {
      "text/html": [
       "<style>#sk-container-id-12 {color: black;background-color: white;}#sk-container-id-12 pre{padding: 0;}#sk-container-id-12 div.sk-toggleable {background-color: white;}#sk-container-id-12 label.sk-toggleable__label {cursor: pointer;display: block;width: 100%;margin-bottom: 0;padding: 0.3em;box-sizing: border-box;text-align: center;}#sk-container-id-12 label.sk-toggleable__label-arrow:before {content: \"▸\";float: left;margin-right: 0.25em;color: #696969;}#sk-container-id-12 label.sk-toggleable__label-arrow:hover:before {color: black;}#sk-container-id-12 div.sk-estimator:hover label.sk-toggleable__label-arrow:before {color: black;}#sk-container-id-12 div.sk-toggleable__content {max-height: 0;max-width: 0;overflow: hidden;text-align: left;background-color: #f0f8ff;}#sk-container-id-12 div.sk-toggleable__content pre {margin: 0.2em;color: black;border-radius: 0.25em;background-color: #f0f8ff;}#sk-container-id-12 input.sk-toggleable__control:checked~div.sk-toggleable__content {max-height: 200px;max-width: 100%;overflow: auto;}#sk-container-id-12 input.sk-toggleable__control:checked~label.sk-toggleable__label-arrow:before {content: \"▾\";}#sk-container-id-12 div.sk-estimator input.sk-toggleable__control:checked~label.sk-toggleable__label {background-color: #d4ebff;}#sk-container-id-12 div.sk-label input.sk-toggleable__control:checked~label.sk-toggleable__label {background-color: #d4ebff;}#sk-container-id-12 input.sk-hidden--visually {border: 0;clip: rect(1px 1px 1px 1px);clip: rect(1px, 1px, 1px, 1px);height: 1px;margin: -1px;overflow: hidden;padding: 0;position: absolute;width: 1px;}#sk-container-id-12 div.sk-estimator {font-family: monospace;background-color: #f0f8ff;border: 1px dotted black;border-radius: 0.25em;box-sizing: border-box;margin-bottom: 0.5em;}#sk-container-id-12 div.sk-estimator:hover {background-color: #d4ebff;}#sk-container-id-12 div.sk-parallel-item::after {content: \"\";width: 100%;border-bottom: 1px solid gray;flex-grow: 1;}#sk-container-id-12 div.sk-label:hover label.sk-toggleable__label {background-color: #d4ebff;}#sk-container-id-12 div.sk-serial::before {content: \"\";position: absolute;border-left: 1px solid gray;box-sizing: border-box;top: 0;bottom: 0;left: 50%;z-index: 0;}#sk-container-id-12 div.sk-serial {display: flex;flex-direction: column;align-items: center;background-color: white;padding-right: 0.2em;padding-left: 0.2em;position: relative;}#sk-container-id-12 div.sk-item {position: relative;z-index: 1;}#sk-container-id-12 div.sk-parallel {display: flex;align-items: stretch;justify-content: center;background-color: white;position: relative;}#sk-container-id-12 div.sk-item::before, #sk-container-id-12 div.sk-parallel-item::before {content: \"\";position: absolute;border-left: 1px solid gray;box-sizing: border-box;top: 0;bottom: 0;left: 50%;z-index: -1;}#sk-container-id-12 div.sk-parallel-item {display: flex;flex-direction: column;z-index: 1;position: relative;background-color: white;}#sk-container-id-12 div.sk-parallel-item:first-child::after {align-self: flex-end;width: 50%;}#sk-container-id-12 div.sk-parallel-item:last-child::after {align-self: flex-start;width: 50%;}#sk-container-id-12 div.sk-parallel-item:only-child::after {width: 0;}#sk-container-id-12 div.sk-dashed-wrapped {border: 1px dashed gray;margin: 0 0.4em 0.5em 0.4em;box-sizing: border-box;padding-bottom: 0.4em;background-color: white;}#sk-container-id-12 div.sk-label label {font-family: monospace;font-weight: bold;display: inline-block;line-height: 1.2em;}#sk-container-id-12 div.sk-label-container {text-align: center;}#sk-container-id-12 div.sk-container {/* jupyter's `normalize.less` sets `[hidden] { display: none; }` but bootstrap.min.css set `[hidden] { display: none !important; }` so we also need the `!important` here to be able to override the default hidden behavior on the sphinx rendered scikit-learn.org. See: https://github.com/scikit-learn/scikit-learn/issues/21755 */display: inline-block !important;position: relative;}#sk-container-id-12 div.sk-text-repr-fallback {display: none;}</style><div id=\"sk-container-id-12\" class=\"sk-top-container\"><div class=\"sk-text-repr-fallback\"><pre>RandomForestClassifier(criterion=&#x27;entropy&#x27;, max_depth=10, min_samples_leaf=30,\n",
       "                       min_samples_split=100, n_jobs=-1, oob_score=True,\n",
       "                       random_state=40, warm_start=True)</pre><b>In a Jupyter environment, please rerun this cell to show the HTML representation or trust the notebook. <br />On GitHub, the HTML representation is unable to render, please try loading this page with nbviewer.org.</b></div><div class=\"sk-container\" hidden><div class=\"sk-item\"><div class=\"sk-estimator sk-toggleable\"><input class=\"sk-toggleable__control sk-hidden--visually\" id=\"sk-estimator-id-12\" type=\"checkbox\" checked><label for=\"sk-estimator-id-12\" class=\"sk-toggleable__label sk-toggleable__label-arrow\">RandomForestClassifier</label><div class=\"sk-toggleable__content\"><pre>RandomForestClassifier(criterion=&#x27;entropy&#x27;, max_depth=10, min_samples_leaf=30,\n",
       "                       min_samples_split=100, n_jobs=-1, oob_score=True,\n",
       "                       random_state=40, warm_start=True)</pre></div></div></div></div></div>"
      ],
      "text/plain": [
       "RandomForestClassifier(criterion='entropy', max_depth=10, min_samples_leaf=30,\n",
       "                       min_samples_split=100, n_jobs=-1, oob_score=True,\n",
       "                       random_state=40, warm_start=True)"
      ]
     },
     "execution_count": 340,
     "metadata": {},
     "output_type": "execute_result"
    }
   ],
   "source": [
    "model4.fit(X_train_res,y_train_res)"
   ]
  },
  {
   "cell_type": "code",
   "execution_count": 341,
   "id": "401dd802-8358-411e-86d8-09dafdd89fbb",
   "metadata": {},
   "outputs": [],
   "source": [
    "y_train_pred = model4.predict(X_train_res)"
   ]
  },
  {
   "cell_type": "code",
   "execution_count": 348,
   "id": "c0dde81a-5935-40f7-95d2-c6826554bffd",
   "metadata": {},
   "outputs": [
    {
     "data": {
      "text/plain": [
       "0.94534269839183"
      ]
     },
     "execution_count": 348,
     "metadata": {},
     "output_type": "execute_result"
    }
   ],
   "source": [
    "model4.oob_score_"
   ]
  },
  {
   "cell_type": "code",
   "execution_count": 342,
   "id": "6866824c-db14-4450-8364-f4356be5933e",
   "metadata": {},
   "outputs": [
    {
     "name": "stdout",
     "output_type": "stream",
     "text": [
      "ROC score of Train set: 0.9478791573385169\n",
      "Recall Score: 0.9494216447965932\n",
      "Confusion Matrix\n",
      "----------------\n",
      "[[1224179   64990]\n",
      " [  69405 1219947]]\n",
      "Random Forrest-- Train Set Report\n",
      "-----------------------------------\n",
      "              precision    recall  f1-score   support\n",
      "\n",
      "           0       0.95      0.95      0.95   1289169\n",
      "           1       0.95      0.95      0.95   1289352\n",
      "\n",
      "    accuracy                           0.95   2578521\n",
      "   macro avg       0.95      0.95      0.95   2578521\n",
      "weighted avg       0.95      0.95      0.95   2578521\n",
      "\n"
     ]
    }
   ],
   "source": [
    "print('ROC score of Train set:',roc_auc_score(y_train_res,y_train_pred))\n",
    "print('Recall Score:',recall_score(y_train_pred,y_train_res))\n",
    "print('Confusion Matrix')\n",
    "print('----------------')\n",
    "print(confusion_matrix(y_train_res,y_train_pred))\n",
    "print(\"Random Forrest-- Train Set Report\")\n",
    "print(\"-----------------------------------\")\n",
    "print(classification_report(y_train_res,y_train_pred))"
   ]
  },
  {
   "cell_type": "markdown",
   "id": "9e496750-bcd2-4509-8036-a4daf672793d",
   "metadata": {},
   "source": [
    "Prediction on Test Set"
   ]
  },
  {
   "cell_type": "code",
   "execution_count": 343,
   "id": "7239e21b-d00c-4ea8-ac37-edcd6ba5be51",
   "metadata": {},
   "outputs": [],
   "source": [
    "y_test_pred = model4.predict(X_test)"
   ]
  },
  {
   "cell_type": "code",
   "execution_count": 344,
   "id": "9e5702db-7f6f-44d1-850a-e1f18dd806f2",
   "metadata": {},
   "outputs": [
    {
     "name": "stdout",
     "output_type": "stream",
     "text": [
      "ROC score of Test set: 0.952490661593871\n",
      "Confusion Matrix\n",
      "----------------\n",
      "[[530911  22663]\n",
      " [   116   2029]]\n",
      "Recall Score: 0.9459207459207459\n",
      "Random Forrest-- Test Set Report\n",
      "-----------------------------------\n",
      "              precision    recall  f1-score   support\n",
      "\n",
      "           0       1.00      0.96      0.98    553574\n",
      "           1       0.08      0.95      0.15      2145\n",
      "\n",
      "    accuracy                           0.96    555719\n",
      "   macro avg       0.54      0.95      0.57    555719\n",
      "weighted avg       1.00      0.96      0.98    555719\n",
      "\n"
     ]
    }
   ],
   "source": [
    "print('ROC score of Test set:',roc_auc_score(y_test,y_test_pred))\n",
    "print('Confusion Matrix')\n",
    "print('----------------')\n",
    "print(confusion_matrix(y_test,y_test_pred))\n",
    "print('Recall Score:',recall_score(y_test,y_test_pred))\n",
    "print(\"Random Forrest-- Test Set Report\")\n",
    "print(\"-----------------------------------\")\n",
    "print(classification_report(y_test,y_test_pred))"
   ]
  },
  {
   "cell_type": "markdown",
   "id": "d84a3f87-83ac-44e6-872f-f6bd27288781",
   "metadata": {},
   "source": [
    "Train Set:\n",
    "The oversampling seems to have effectively addressed class imbalance for the training set:\n",
    "High Recall and Precision (both 0.95):\n",
    "Indicates the model is effectively learning patterns to detect fraudulent transactions.\n",
    "High F1-Score (0.95):\n",
    "Reflects a balanced performance between precision and recall in the training data.\n",
    "\n",
    "\n",
    "Test Set:\n",
    "\n",
    "Class 1 (Fraudulent Transactions):\n",
    "\n",
    "Recall (0.95): This remains strong, showing the model's ability to detect most fraudulent transactions.\n",
    "Precision (0.08): Still extremely low, which means many non-fraudulent transactions are being misclassified as fraudulent.\n",
    "F1-Score (0.15): Indicates a poor balance between precision and recall.\n",
    "The model's performance for class 1 is inadequate, despite good recall, because the high false-positive rate reduces its practical usability.\n",
    "\n",
    "\n",
    "Class 0 (Non-Fraudulent Transactions):\n",
    "\n",
    "Precision (1.00), Recall (0.96): Very high, showing that the model predominantly focuses on the majority class."
   ]
  },
  {
   "cell_type": "code",
   "execution_count": 349,
   "id": "8c343e53-0476-459a-97b6-7dc680f3af81",
   "metadata": {},
   "outputs": [
    {
     "data": {
      "text/plain": [
       "array([0.74272886, 0.01145029, 0.00899205, 0.02229106, 0.00324641,\n",
       "       0.03356406, 0.02044069, 0.0183598 , 0.00508873, 0.02214243,\n",
       "       0.00371113, 0.0138377 , 0.00654454, 0.01732179, 0.00821742,\n",
       "       0.0053286 , 0.02568169, 0.02120641, 0.00984633])"
      ]
     },
     "execution_count": 349,
     "metadata": {},
     "output_type": "execute_result"
    }
   ],
   "source": [
    "model4.feature_importances_"
   ]
  },
  {
   "cell_type": "code",
   "execution_count": 355,
   "id": "4559141d-d263-4a04-bcfb-ec1b892e3b51",
   "metadata": {},
   "outputs": [],
   "source": [
    "cols_list = train_data_final.columns"
   ]
  },
  {
   "cell_type": "code",
   "execution_count": 361,
   "id": "c2e892da-26ae-4111-aebd-06230d56ed53",
   "metadata": {},
   "outputs": [],
   "source": [
    "imp_df = pd.DataFrame({\n",
    "    \"Varname\": cols_list.drop('is_fraud'),\n",
    "    \"Imp\": model4.feature_importances_\n",
    "})"
   ]
  },
  {
   "cell_type": "code",
   "execution_count": 362,
   "id": "7ef97bbd-bb72-4f32-babc-303fbe7fdba9",
   "metadata": {},
   "outputs": [
    {
     "data": {
      "text/html": [
       "<div>\n",
       "<style scoped>\n",
       "    .dataframe tbody tr th:only-of-type {\n",
       "        vertical-align: middle;\n",
       "    }\n",
       "\n",
       "    .dataframe tbody tr th {\n",
       "        vertical-align: top;\n",
       "    }\n",
       "\n",
       "    .dataframe thead th {\n",
       "        text-align: right;\n",
       "    }\n",
       "</style>\n",
       "<table border=\"1\" class=\"dataframe\">\n",
       "  <thead>\n",
       "    <tr style=\"text-align: right;\">\n",
       "      <th></th>\n",
       "      <th>Varname</th>\n",
       "      <th>Imp</th>\n",
       "    </tr>\n",
       "  </thead>\n",
       "  <tbody>\n",
       "    <tr>\n",
       "      <th>0</th>\n",
       "      <td>amt</td>\n",
       "      <td>0.742729</td>\n",
       "    </tr>\n",
       "    <tr>\n",
       "      <th>5</th>\n",
       "      <td>trans_month</td>\n",
       "      <td>0.033564</td>\n",
       "    </tr>\n",
       "    <tr>\n",
       "      <th>16</th>\n",
       "      <td>category_shopping_net</td>\n",
       "      <td>0.025682</td>\n",
       "    </tr>\n",
       "    <tr>\n",
       "      <th>3</th>\n",
       "      <td>age</td>\n",
       "      <td>0.022291</td>\n",
       "    </tr>\n",
       "    <tr>\n",
       "      <th>9</th>\n",
       "      <td>category_grocery_pos</td>\n",
       "      <td>0.022142</td>\n",
       "    </tr>\n",
       "    <tr>\n",
       "      <th>17</th>\n",
       "      <td>category_shopping_pos</td>\n",
       "      <td>0.021206</td>\n",
       "    </tr>\n",
       "    <tr>\n",
       "      <th>6</th>\n",
       "      <td>category_food_dining</td>\n",
       "      <td>0.020441</td>\n",
       "    </tr>\n",
       "    <tr>\n",
       "      <th>7</th>\n",
       "      <td>category_gas_transport</td>\n",
       "      <td>0.018360</td>\n",
       "    </tr>\n",
       "    <tr>\n",
       "      <th>13</th>\n",
       "      <td>category_misc_net</td>\n",
       "      <td>0.017322</td>\n",
       "    </tr>\n",
       "    <tr>\n",
       "      <th>11</th>\n",
       "      <td>category_home</td>\n",
       "      <td>0.013838</td>\n",
       "    </tr>\n",
       "    <tr>\n",
       "      <th>1</th>\n",
       "      <td>gender</td>\n",
       "      <td>0.011450</td>\n",
       "    </tr>\n",
       "    <tr>\n",
       "      <th>18</th>\n",
       "      <td>category_travel</td>\n",
       "      <td>0.009846</td>\n",
       "    </tr>\n",
       "    <tr>\n",
       "      <th>2</th>\n",
       "      <td>city_pop</td>\n",
       "      <td>0.008992</td>\n",
       "    </tr>\n",
       "    <tr>\n",
       "      <th>14</th>\n",
       "      <td>category_misc_pos</td>\n",
       "      <td>0.008217</td>\n",
       "    </tr>\n",
       "    <tr>\n",
       "      <th>12</th>\n",
       "      <td>category_kids_pets</td>\n",
       "      <td>0.006545</td>\n",
       "    </tr>\n",
       "    <tr>\n",
       "      <th>15</th>\n",
       "      <td>category_personal_care</td>\n",
       "      <td>0.005329</td>\n",
       "    </tr>\n",
       "    <tr>\n",
       "      <th>8</th>\n",
       "      <td>category_grocery_net</td>\n",
       "      <td>0.005089</td>\n",
       "    </tr>\n",
       "    <tr>\n",
       "      <th>10</th>\n",
       "      <td>category_health_fitness</td>\n",
       "      <td>0.003711</td>\n",
       "    </tr>\n",
       "    <tr>\n",
       "      <th>4</th>\n",
       "      <td>distance</td>\n",
       "      <td>0.003246</td>\n",
       "    </tr>\n",
       "  </tbody>\n",
       "</table>\n",
       "</div>"
      ],
      "text/plain": [
       "                    Varname       Imp\n",
       "0                       amt  0.742729\n",
       "5               trans_month  0.033564\n",
       "16    category_shopping_net  0.025682\n",
       "3                       age  0.022291\n",
       "9      category_grocery_pos  0.022142\n",
       "17    category_shopping_pos  0.021206\n",
       "6      category_food_dining  0.020441\n",
       "7    category_gas_transport  0.018360\n",
       "13        category_misc_net  0.017322\n",
       "11            category_home  0.013838\n",
       "1                    gender  0.011450\n",
       "18          category_travel  0.009846\n",
       "2                  city_pop  0.008992\n",
       "14        category_misc_pos  0.008217\n",
       "12       category_kids_pets  0.006545\n",
       "15   category_personal_care  0.005329\n",
       "8      category_grocery_net  0.005089\n",
       "10  category_health_fitness  0.003711\n",
       "4                  distance  0.003246"
      ]
     },
     "execution_count": 362,
     "metadata": {},
     "output_type": "execute_result"
    }
   ],
   "source": [
    "imp_df.sort_values(by=\"Imp\", ascending=False)"
   ]
  },
  {
   "cell_type": "markdown",
   "id": "aea1be12-64f0-4b77-a528-a95182a1a124",
   "metadata": {},
   "source": [
    "Testing This Model on Original data without Oversampling"
   ]
  },
  {
   "cell_type": "code",
   "execution_count": 366,
   "id": "028a2a58-00da-48d3-8a4f-fce8edbde3db",
   "metadata": {},
   "outputs": [],
   "source": [
    "y_train_pred = model4.predict(X_train)"
   ]
  },
  {
   "cell_type": "code",
   "execution_count": 369,
   "id": "105417b7-a83f-40ea-97c8-0d4080b7a90d",
   "metadata": {},
   "outputs": [
    {
     "name": "stdout",
     "output_type": "stream",
     "text": [
      "Final Model-- Train Set Report\n",
      "-----------------------------------\n",
      "              precision    recall  f1-score   support\n",
      "\n",
      "           0       1.00      0.95      0.97   1289169\n",
      "           1       0.10      0.96      0.18      7506\n",
      "\n",
      "    accuracy                           0.95   1296675\n",
      "   macro avg       0.55      0.95      0.58   1296675\n",
      "weighted avg       0.99      0.95      0.97   1296675\n",
      "\n",
      "Final Model--- Test Set Report\n",
      "-----------------------------------\n",
      "              precision    recall  f1-score   support\n",
      "\n",
      "           0       1.00      0.96      0.98    553574\n",
      "           1       0.08      0.95      0.15      2145\n",
      "\n",
      "    accuracy                           0.96    555719\n",
      "   macro avg       0.54      0.95      0.57    555719\n",
      "weighted avg       1.00      0.96      0.98    555719\n",
      "\n"
     ]
    }
   ],
   "source": [
    "print(\"Final Model-- Train Set Report\")\n",
    "print(\"-----------------------------------\")\n",
    "print(classification_report(y_train,y_train_pred))\n",
    "print(\"Final Model--- Test Set Report\")\n",
    "print(\"-----------------------------------\")\n",
    "print(classification_report(y_test,y_test_pred))"
   ]
  },
  {
   "cell_type": "code",
   "execution_count": 370,
   "id": "c61e5542-ff5a-4029-9d4c-43da593dbf0c",
   "metadata": {},
   "outputs": [],
   "source": [
    "df_train_pred = pd.DataFrame(y_train_pred)"
   ]
  },
  {
   "cell_type": "code",
   "execution_count": 383,
   "id": "f080ed21-b46e-4108-aac0-ecd0729af922",
   "metadata": {},
   "outputs": [],
   "source": [
    "final_train = pd.concat([train_set,df_train_pred],axis=1)"
   ]
  },
  {
   "cell_type": "code",
   "execution_count": 384,
   "id": "62948fc2-2b23-4aac-a4e7-83429915caca",
   "metadata": {},
   "outputs": [],
   "source": [
    "final_train = final_train.rename(columns={ 0 : 'is_fraud_pred'})"
   ]
  },
  {
   "cell_type": "code",
   "execution_count": 385,
   "id": "8c402805-0725-4ee1-87dd-a3cc663e4695",
   "metadata": {},
   "outputs": [
    {
     "data": {
      "text/html": [
       "<div>\n",
       "<style scoped>\n",
       "    .dataframe tbody tr th:only-of-type {\n",
       "        vertical-align: middle;\n",
       "    }\n",
       "\n",
       "    .dataframe tbody tr th {\n",
       "        vertical-align: top;\n",
       "    }\n",
       "\n",
       "    .dataframe thead th {\n",
       "        text-align: right;\n",
       "    }\n",
       "</style>\n",
       "<table border=\"1\" class=\"dataframe\">\n",
       "  <thead>\n",
       "    <tr style=\"text-align: right;\">\n",
       "      <th></th>\n",
       "      <th>trans_date_trans_time</th>\n",
       "      <th>merchant</th>\n",
       "      <th>category</th>\n",
       "      <th>amt</th>\n",
       "      <th>gender</th>\n",
       "      <th>city</th>\n",
       "      <th>state</th>\n",
       "      <th>lat</th>\n",
       "      <th>long</th>\n",
       "      <th>city_pop</th>\n",
       "      <th>job</th>\n",
       "      <th>dob</th>\n",
       "      <th>merch_lat</th>\n",
       "      <th>merch_long</th>\n",
       "      <th>is_fraud</th>\n",
       "      <th>trans_date</th>\n",
       "      <th>age</th>\n",
       "      <th>distance</th>\n",
       "      <th>trans_month</th>\n",
       "      <th>is_fraud_pred</th>\n",
       "    </tr>\n",
       "  </thead>\n",
       "  <tbody>\n",
       "    <tr>\n",
       "      <th>0</th>\n",
       "      <td>2019-01-01 00:00:18</td>\n",
       "      <td>fraud_Rippin, Kub and Mann</td>\n",
       "      <td>misc_net</td>\n",
       "      <td>4.97</td>\n",
       "      <td>F</td>\n",
       "      <td>Moravian Falls</td>\n",
       "      <td>NC</td>\n",
       "      <td>36.0788</td>\n",
       "      <td>-81.1781</td>\n",
       "      <td>3495</td>\n",
       "      <td>Psychologist, counselling</td>\n",
       "      <td>1988-03-09</td>\n",
       "      <td>36.011293</td>\n",
       "      <td>-82.048315</td>\n",
       "      <td>0</td>\n",
       "      <td>2019-01-01</td>\n",
       "      <td>31.0</td>\n",
       "      <td>97.05</td>\n",
       "      <td>1</td>\n",
       "      <td>0</td>\n",
       "    </tr>\n",
       "    <tr>\n",
       "      <th>1</th>\n",
       "      <td>2019-01-01 00:00:44</td>\n",
       "      <td>fraud_Heller, Gutmann and Zieme</td>\n",
       "      <td>grocery_pos</td>\n",
       "      <td>107.23</td>\n",
       "      <td>F</td>\n",
       "      <td>Orient</td>\n",
       "      <td>WA</td>\n",
       "      <td>48.8878</td>\n",
       "      <td>-118.2105</td>\n",
       "      <td>149</td>\n",
       "      <td>Special educational needs teacher</td>\n",
       "      <td>1978-06-21</td>\n",
       "      <td>49.159047</td>\n",
       "      <td>-118.186462</td>\n",
       "      <td>0</td>\n",
       "      <td>2019-01-01</td>\n",
       "      <td>41.0</td>\n",
       "      <td>30.28</td>\n",
       "      <td>1</td>\n",
       "      <td>0</td>\n",
       "    </tr>\n",
       "    <tr>\n",
       "      <th>2</th>\n",
       "      <td>2019-01-01 00:00:51</td>\n",
       "      <td>fraud_Lind-Buckridge</td>\n",
       "      <td>entertainment</td>\n",
       "      <td>220.11</td>\n",
       "      <td>M</td>\n",
       "      <td>Malad City</td>\n",
       "      <td>ID</td>\n",
       "      <td>42.1808</td>\n",
       "      <td>-112.2620</td>\n",
       "      <td>4154</td>\n",
       "      <td>Nature conservation officer</td>\n",
       "      <td>1962-01-19</td>\n",
       "      <td>43.150704</td>\n",
       "      <td>-112.154481</td>\n",
       "      <td>0</td>\n",
       "      <td>2019-01-01</td>\n",
       "      <td>57.0</td>\n",
       "      <td>108.51</td>\n",
       "      <td>1</td>\n",
       "      <td>0</td>\n",
       "    </tr>\n",
       "    <tr>\n",
       "      <th>3</th>\n",
       "      <td>2019-01-01 00:01:16</td>\n",
       "      <td>fraud_Kutch, Hermiston and Farrell</td>\n",
       "      <td>gas_transport</td>\n",
       "      <td>45.00</td>\n",
       "      <td>M</td>\n",
       "      <td>Boulder</td>\n",
       "      <td>MT</td>\n",
       "      <td>46.2306</td>\n",
       "      <td>-112.1138</td>\n",
       "      <td>1939</td>\n",
       "      <td>Patent attorney</td>\n",
       "      <td>1967-01-12</td>\n",
       "      <td>47.034331</td>\n",
       "      <td>-112.561071</td>\n",
       "      <td>0</td>\n",
       "      <td>2019-01-01</td>\n",
       "      <td>52.0</td>\n",
       "      <td>102.28</td>\n",
       "      <td>1</td>\n",
       "      <td>0</td>\n",
       "    </tr>\n",
       "    <tr>\n",
       "      <th>4</th>\n",
       "      <td>2019-01-01 00:03:06</td>\n",
       "      <td>fraud_Keeling-Crist</td>\n",
       "      <td>misc_pos</td>\n",
       "      <td>41.96</td>\n",
       "      <td>M</td>\n",
       "      <td>Doe Hill</td>\n",
       "      <td>VA</td>\n",
       "      <td>38.4207</td>\n",
       "      <td>-79.4629</td>\n",
       "      <td>99</td>\n",
       "      <td>Dance movement psychotherapist</td>\n",
       "      <td>1986-03-28</td>\n",
       "      <td>38.674999</td>\n",
       "      <td>-78.632459</td>\n",
       "      <td>0</td>\n",
       "      <td>2019-01-01</td>\n",
       "      <td>33.0</td>\n",
       "      <td>96.57</td>\n",
       "      <td>1</td>\n",
       "      <td>0</td>\n",
       "    </tr>\n",
       "  </tbody>\n",
       "</table>\n",
       "</div>"
      ],
      "text/plain": [
       "  trans_date_trans_time                            merchant       category  \\\n",
       "0   2019-01-01 00:00:18          fraud_Rippin, Kub and Mann       misc_net   \n",
       "1   2019-01-01 00:00:44     fraud_Heller, Gutmann and Zieme    grocery_pos   \n",
       "2   2019-01-01 00:00:51                fraud_Lind-Buckridge  entertainment   \n",
       "3   2019-01-01 00:01:16  fraud_Kutch, Hermiston and Farrell  gas_transport   \n",
       "4   2019-01-01 00:03:06                 fraud_Keeling-Crist       misc_pos   \n",
       "\n",
       "      amt gender            city state      lat      long  city_pop  \\\n",
       "0    4.97      F  Moravian Falls    NC  36.0788  -81.1781      3495   \n",
       "1  107.23      F          Orient    WA  48.8878 -118.2105       149   \n",
       "2  220.11      M      Malad City    ID  42.1808 -112.2620      4154   \n",
       "3   45.00      M         Boulder    MT  46.2306 -112.1138      1939   \n",
       "4   41.96      M        Doe Hill    VA  38.4207  -79.4629        99   \n",
       "\n",
       "                                 job        dob  merch_lat  merch_long  \\\n",
       "0          Psychologist, counselling 1988-03-09  36.011293  -82.048315   \n",
       "1  Special educational needs teacher 1978-06-21  49.159047 -118.186462   \n",
       "2        Nature conservation officer 1962-01-19  43.150704 -112.154481   \n",
       "3                    Patent attorney 1967-01-12  47.034331 -112.561071   \n",
       "4     Dance movement psychotherapist 1986-03-28  38.674999  -78.632459   \n",
       "\n",
       "   is_fraud trans_date   age  distance  trans_month  is_fraud_pred  \n",
       "0         0 2019-01-01  31.0     97.05            1              0  \n",
       "1         0 2019-01-01  41.0     30.28            1              0  \n",
       "2         0 2019-01-01  57.0    108.51            1              0  \n",
       "3         0 2019-01-01  52.0    102.28            1              0  \n",
       "4         0 2019-01-01  33.0     96.57            1              0  "
      ]
     },
     "execution_count": 385,
     "metadata": {},
     "output_type": "execute_result"
    }
   ],
   "source": [
    "final_train.head()"
   ]
  },
  {
   "cell_type": "code",
   "execution_count": 379,
   "id": "4109617a-06d8-436e-8b33-75926930d82c",
   "metadata": {},
   "outputs": [],
   "source": [
    "df_test_pred = pd.DataFrame(y_test_pred)"
   ]
  },
  {
   "cell_type": "code",
   "execution_count": 386,
   "id": "a6c3dabb-5cb2-442d-a5b8-39cac012349e",
   "metadata": {},
   "outputs": [],
   "source": [
    "final_test = pd.concat([test_set,df_test_pred],axis=1)"
   ]
  },
  {
   "cell_type": "code",
   "execution_count": 387,
   "id": "28ff4645-ccf6-4799-9e8d-c224d18a7ed8",
   "metadata": {},
   "outputs": [],
   "source": [
    "final_test = final_test.rename(columns={ 0 : 'is_fraud_pred'})"
   ]
  },
  {
   "cell_type": "code",
   "execution_count": 388,
   "id": "81a2f91d-eaae-4463-95fb-d122d40c13c9",
   "metadata": {},
   "outputs": [
    {
     "data": {
      "text/html": [
       "<div>\n",
       "<style scoped>\n",
       "    .dataframe tbody tr th:only-of-type {\n",
       "        vertical-align: middle;\n",
       "    }\n",
       "\n",
       "    .dataframe tbody tr th {\n",
       "        vertical-align: top;\n",
       "    }\n",
       "\n",
       "    .dataframe thead th {\n",
       "        text-align: right;\n",
       "    }\n",
       "</style>\n",
       "<table border=\"1\" class=\"dataframe\">\n",
       "  <thead>\n",
       "    <tr style=\"text-align: right;\">\n",
       "      <th></th>\n",
       "      <th>trans_date_trans_time</th>\n",
       "      <th>merchant</th>\n",
       "      <th>category</th>\n",
       "      <th>amt</th>\n",
       "      <th>gender</th>\n",
       "      <th>city</th>\n",
       "      <th>state</th>\n",
       "      <th>lat</th>\n",
       "      <th>long</th>\n",
       "      <th>city_pop</th>\n",
       "      <th>job</th>\n",
       "      <th>dob</th>\n",
       "      <th>merch_lat</th>\n",
       "      <th>merch_long</th>\n",
       "      <th>is_fraud</th>\n",
       "      <th>trans_date</th>\n",
       "      <th>age</th>\n",
       "      <th>distance</th>\n",
       "      <th>trans_month</th>\n",
       "      <th>is_fraud_pred</th>\n",
       "    </tr>\n",
       "  </thead>\n",
       "  <tbody>\n",
       "    <tr>\n",
       "      <th>0</th>\n",
       "      <td>2020-06-21 12:14:25</td>\n",
       "      <td>fraud_Kirlin and Sons</td>\n",
       "      <td>personal_care</td>\n",
       "      <td>2.86</td>\n",
       "      <td>M</td>\n",
       "      <td>Columbia</td>\n",
       "      <td>SC</td>\n",
       "      <td>33.9659</td>\n",
       "      <td>-80.9355</td>\n",
       "      <td>333497</td>\n",
       "      <td>Mechanical engineer</td>\n",
       "      <td>1968-03-19</td>\n",
       "      <td>33.986391</td>\n",
       "      <td>-81.200714</td>\n",
       "      <td>0</td>\n",
       "      <td>2020-06-21</td>\n",
       "      <td>52.0</td>\n",
       "      <td>29.58</td>\n",
       "      <td>6</td>\n",
       "      <td>0</td>\n",
       "    </tr>\n",
       "    <tr>\n",
       "      <th>1</th>\n",
       "      <td>2020-06-21 12:14:33</td>\n",
       "      <td>fraud_Sporer-Keebler</td>\n",
       "      <td>personal_care</td>\n",
       "      <td>29.84</td>\n",
       "      <td>F</td>\n",
       "      <td>Altonah</td>\n",
       "      <td>UT</td>\n",
       "      <td>40.3207</td>\n",
       "      <td>-110.4360</td>\n",
       "      <td>302</td>\n",
       "      <td>Sales professional, IT</td>\n",
       "      <td>1990-01-17</td>\n",
       "      <td>39.450498</td>\n",
       "      <td>-109.960431</td>\n",
       "      <td>0</td>\n",
       "      <td>2020-06-21</td>\n",
       "      <td>30.0</td>\n",
       "      <td>110.27</td>\n",
       "      <td>6</td>\n",
       "      <td>0</td>\n",
       "    </tr>\n",
       "    <tr>\n",
       "      <th>2</th>\n",
       "      <td>2020-06-21 12:14:53</td>\n",
       "      <td>fraud_Swaniawski, Nitzsche and Welch</td>\n",
       "      <td>health_fitness</td>\n",
       "      <td>41.28</td>\n",
       "      <td>F</td>\n",
       "      <td>Bellmore</td>\n",
       "      <td>NY</td>\n",
       "      <td>40.6729</td>\n",
       "      <td>-73.5365</td>\n",
       "      <td>34496</td>\n",
       "      <td>Librarian, public</td>\n",
       "      <td>1970-10-21</td>\n",
       "      <td>40.495810</td>\n",
       "      <td>-74.196111</td>\n",
       "      <td>0</td>\n",
       "      <td>2020-06-21</td>\n",
       "      <td>50.0</td>\n",
       "      <td>75.94</td>\n",
       "      <td>6</td>\n",
       "      <td>0</td>\n",
       "    </tr>\n",
       "    <tr>\n",
       "      <th>3</th>\n",
       "      <td>2020-06-21 12:15:15</td>\n",
       "      <td>fraud_Haley Group</td>\n",
       "      <td>misc_pos</td>\n",
       "      <td>60.05</td>\n",
       "      <td>M</td>\n",
       "      <td>Titusville</td>\n",
       "      <td>FL</td>\n",
       "      <td>28.5697</td>\n",
       "      <td>-80.8191</td>\n",
       "      <td>54767</td>\n",
       "      <td>Set designer</td>\n",
       "      <td>1987-07-25</td>\n",
       "      <td>28.812398</td>\n",
       "      <td>-80.883061</td>\n",
       "      <td>0</td>\n",
       "      <td>2020-06-21</td>\n",
       "      <td>33.0</td>\n",
       "      <td>27.91</td>\n",
       "      <td>6</td>\n",
       "      <td>0</td>\n",
       "    </tr>\n",
       "    <tr>\n",
       "      <th>4</th>\n",
       "      <td>2020-06-21 12:15:17</td>\n",
       "      <td>fraud_Johnston-Casper</td>\n",
       "      <td>travel</td>\n",
       "      <td>3.19</td>\n",
       "      <td>M</td>\n",
       "      <td>Falmouth</td>\n",
       "      <td>MI</td>\n",
       "      <td>44.2529</td>\n",
       "      <td>-85.0170</td>\n",
       "      <td>1126</td>\n",
       "      <td>Furniture designer</td>\n",
       "      <td>1955-07-06</td>\n",
       "      <td>44.959148</td>\n",
       "      <td>-85.884734</td>\n",
       "      <td>0</td>\n",
       "      <td>2020-06-21</td>\n",
       "      <td>65.0</td>\n",
       "      <td>124.41</td>\n",
       "      <td>6</td>\n",
       "      <td>0</td>\n",
       "    </tr>\n",
       "  </tbody>\n",
       "</table>\n",
       "</div>"
      ],
      "text/plain": [
       "  trans_date_trans_time                              merchant        category  \\\n",
       "0   2020-06-21 12:14:25                 fraud_Kirlin and Sons   personal_care   \n",
       "1   2020-06-21 12:14:33                  fraud_Sporer-Keebler   personal_care   \n",
       "2   2020-06-21 12:14:53  fraud_Swaniawski, Nitzsche and Welch  health_fitness   \n",
       "3   2020-06-21 12:15:15                     fraud_Haley Group        misc_pos   \n",
       "4   2020-06-21 12:15:17                 fraud_Johnston-Casper          travel   \n",
       "\n",
       "     amt gender        city state      lat      long  city_pop  \\\n",
       "0   2.86      M    Columbia    SC  33.9659  -80.9355    333497   \n",
       "1  29.84      F     Altonah    UT  40.3207 -110.4360       302   \n",
       "2  41.28      F    Bellmore    NY  40.6729  -73.5365     34496   \n",
       "3  60.05      M  Titusville    FL  28.5697  -80.8191     54767   \n",
       "4   3.19      M    Falmouth    MI  44.2529  -85.0170      1126   \n",
       "\n",
       "                      job        dob  merch_lat  merch_long  is_fraud  \\\n",
       "0     Mechanical engineer 1968-03-19  33.986391  -81.200714         0   \n",
       "1  Sales professional, IT 1990-01-17  39.450498 -109.960431         0   \n",
       "2       Librarian, public 1970-10-21  40.495810  -74.196111         0   \n",
       "3            Set designer 1987-07-25  28.812398  -80.883061         0   \n",
       "4      Furniture designer 1955-07-06  44.959148  -85.884734         0   \n",
       "\n",
       "  trans_date   age  distance  trans_month  is_fraud_pred  \n",
       "0 2020-06-21  52.0     29.58            6              0  \n",
       "1 2020-06-21  30.0    110.27            6              0  \n",
       "2 2020-06-21  50.0     75.94            6              0  \n",
       "3 2020-06-21  33.0     27.91            6              0  \n",
       "4 2020-06-21  65.0    124.41            6              0  "
      ]
     },
     "execution_count": 388,
     "metadata": {},
     "output_type": "execute_result"
    }
   ],
   "source": [
    "final_test.head()"
   ]
  },
  {
   "cell_type": "code",
   "execution_count": 389,
   "id": "82bf2cc5-d29e-4dbf-90e5-ebb8243033da",
   "metadata": {},
   "outputs": [
    {
     "data": {
      "text/html": [
       "<div>\n",
       "<style scoped>\n",
       "    .dataframe tbody tr th:only-of-type {\n",
       "        vertical-align: middle;\n",
       "    }\n",
       "\n",
       "    .dataframe tbody tr th {\n",
       "        vertical-align: top;\n",
       "    }\n",
       "\n",
       "    .dataframe thead th {\n",
       "        text-align: right;\n",
       "    }\n",
       "</style>\n",
       "<table border=\"1\" class=\"dataframe\">\n",
       "  <thead>\n",
       "    <tr style=\"text-align: right;\">\n",
       "      <th></th>\n",
       "      <th>trans_date_trans_time</th>\n",
       "      <th>merchant</th>\n",
       "      <th>category</th>\n",
       "      <th>amt</th>\n",
       "      <th>gender</th>\n",
       "      <th>city</th>\n",
       "      <th>state</th>\n",
       "      <th>lat</th>\n",
       "      <th>long</th>\n",
       "      <th>city_pop</th>\n",
       "      <th>job</th>\n",
       "      <th>dob</th>\n",
       "      <th>merch_lat</th>\n",
       "      <th>merch_long</th>\n",
       "      <th>is_fraud</th>\n",
       "      <th>trans_date</th>\n",
       "      <th>age</th>\n",
       "      <th>distance</th>\n",
       "      <th>trans_month</th>\n",
       "      <th>is_fraud_pred</th>\n",
       "    </tr>\n",
       "  </thead>\n",
       "  <tbody>\n",
       "    <tr>\n",
       "      <th>0</th>\n",
       "      <td>2019-01-01 00:00:18</td>\n",
       "      <td>fraud_Rippin, Kub and Mann</td>\n",
       "      <td>misc_net</td>\n",
       "      <td>4.97</td>\n",
       "      <td>F</td>\n",
       "      <td>Moravian Falls</td>\n",
       "      <td>NC</td>\n",
       "      <td>36.0788</td>\n",
       "      <td>-81.1781</td>\n",
       "      <td>3495</td>\n",
       "      <td>Psychologist, counselling</td>\n",
       "      <td>1988-03-09</td>\n",
       "      <td>36.011293</td>\n",
       "      <td>-82.048315</td>\n",
       "      <td>0</td>\n",
       "      <td>2019-01-01</td>\n",
       "      <td>31.0</td>\n",
       "      <td>97.05</td>\n",
       "      <td>1</td>\n",
       "      <td>0</td>\n",
       "    </tr>\n",
       "    <tr>\n",
       "      <th>1</th>\n",
       "      <td>2019-01-01 00:00:44</td>\n",
       "      <td>fraud_Heller, Gutmann and Zieme</td>\n",
       "      <td>grocery_pos</td>\n",
       "      <td>107.23</td>\n",
       "      <td>F</td>\n",
       "      <td>Orient</td>\n",
       "      <td>WA</td>\n",
       "      <td>48.8878</td>\n",
       "      <td>-118.2105</td>\n",
       "      <td>149</td>\n",
       "      <td>Special educational needs teacher</td>\n",
       "      <td>1978-06-21</td>\n",
       "      <td>49.159047</td>\n",
       "      <td>-118.186462</td>\n",
       "      <td>0</td>\n",
       "      <td>2019-01-01</td>\n",
       "      <td>41.0</td>\n",
       "      <td>30.28</td>\n",
       "      <td>1</td>\n",
       "      <td>0</td>\n",
       "    </tr>\n",
       "    <tr>\n",
       "      <th>2</th>\n",
       "      <td>2019-01-01 00:00:51</td>\n",
       "      <td>fraud_Lind-Buckridge</td>\n",
       "      <td>entertainment</td>\n",
       "      <td>220.11</td>\n",
       "      <td>M</td>\n",
       "      <td>Malad City</td>\n",
       "      <td>ID</td>\n",
       "      <td>42.1808</td>\n",
       "      <td>-112.2620</td>\n",
       "      <td>4154</td>\n",
       "      <td>Nature conservation officer</td>\n",
       "      <td>1962-01-19</td>\n",
       "      <td>43.150704</td>\n",
       "      <td>-112.154481</td>\n",
       "      <td>0</td>\n",
       "      <td>2019-01-01</td>\n",
       "      <td>57.0</td>\n",
       "      <td>108.51</td>\n",
       "      <td>1</td>\n",
       "      <td>0</td>\n",
       "    </tr>\n",
       "    <tr>\n",
       "      <th>3</th>\n",
       "      <td>2019-01-01 00:01:16</td>\n",
       "      <td>fraud_Kutch, Hermiston and Farrell</td>\n",
       "      <td>gas_transport</td>\n",
       "      <td>45.00</td>\n",
       "      <td>M</td>\n",
       "      <td>Boulder</td>\n",
       "      <td>MT</td>\n",
       "      <td>46.2306</td>\n",
       "      <td>-112.1138</td>\n",
       "      <td>1939</td>\n",
       "      <td>Patent attorney</td>\n",
       "      <td>1967-01-12</td>\n",
       "      <td>47.034331</td>\n",
       "      <td>-112.561071</td>\n",
       "      <td>0</td>\n",
       "      <td>2019-01-01</td>\n",
       "      <td>52.0</td>\n",
       "      <td>102.28</td>\n",
       "      <td>1</td>\n",
       "      <td>0</td>\n",
       "    </tr>\n",
       "    <tr>\n",
       "      <th>4</th>\n",
       "      <td>2019-01-01 00:03:06</td>\n",
       "      <td>fraud_Keeling-Crist</td>\n",
       "      <td>misc_pos</td>\n",
       "      <td>41.96</td>\n",
       "      <td>M</td>\n",
       "      <td>Doe Hill</td>\n",
       "      <td>VA</td>\n",
       "      <td>38.4207</td>\n",
       "      <td>-79.4629</td>\n",
       "      <td>99</td>\n",
       "      <td>Dance movement psychotherapist</td>\n",
       "      <td>1986-03-28</td>\n",
       "      <td>38.674999</td>\n",
       "      <td>-78.632459</td>\n",
       "      <td>0</td>\n",
       "      <td>2019-01-01</td>\n",
       "      <td>33.0</td>\n",
       "      <td>96.57</td>\n",
       "      <td>1</td>\n",
       "      <td>0</td>\n",
       "    </tr>\n",
       "  </tbody>\n",
       "</table>\n",
       "</div>"
      ],
      "text/plain": [
       "  trans_date_trans_time                            merchant       category  \\\n",
       "0   2019-01-01 00:00:18          fraud_Rippin, Kub and Mann       misc_net   \n",
       "1   2019-01-01 00:00:44     fraud_Heller, Gutmann and Zieme    grocery_pos   \n",
       "2   2019-01-01 00:00:51                fraud_Lind-Buckridge  entertainment   \n",
       "3   2019-01-01 00:01:16  fraud_Kutch, Hermiston and Farrell  gas_transport   \n",
       "4   2019-01-01 00:03:06                 fraud_Keeling-Crist       misc_pos   \n",
       "\n",
       "      amt gender            city state      lat      long  city_pop  \\\n",
       "0    4.97      F  Moravian Falls    NC  36.0788  -81.1781      3495   \n",
       "1  107.23      F          Orient    WA  48.8878 -118.2105       149   \n",
       "2  220.11      M      Malad City    ID  42.1808 -112.2620      4154   \n",
       "3   45.00      M         Boulder    MT  46.2306 -112.1138      1939   \n",
       "4   41.96      M        Doe Hill    VA  38.4207  -79.4629        99   \n",
       "\n",
       "                                 job        dob  merch_lat  merch_long  \\\n",
       "0          Psychologist, counselling 1988-03-09  36.011293  -82.048315   \n",
       "1  Special educational needs teacher 1978-06-21  49.159047 -118.186462   \n",
       "2        Nature conservation officer 1962-01-19  43.150704 -112.154481   \n",
       "3                    Patent attorney 1967-01-12  47.034331 -112.561071   \n",
       "4     Dance movement psychotherapist 1986-03-28  38.674999  -78.632459   \n",
       "\n",
       "   is_fraud trans_date   age  distance  trans_month  is_fraud_pred  \n",
       "0         0 2019-01-01  31.0     97.05            1              0  \n",
       "1         0 2019-01-01  41.0     30.28            1              0  \n",
       "2         0 2019-01-01  57.0    108.51            1              0  \n",
       "3         0 2019-01-01  52.0    102.28            1              0  \n",
       "4         0 2019-01-01  33.0     96.57            1              0  "
      ]
     },
     "execution_count": 389,
     "metadata": {},
     "output_type": "execute_result"
    }
   ],
   "source": [
    "### Merging both Training and Test Set for Cost Benefit Analysis Now\n",
    "\n",
    "df_merge_final = pd.concat([final_train, final_test],axis=0)\n",
    "df_merge_final.head()"
   ]
  },
  {
   "cell_type": "code",
   "execution_count": 391,
   "id": "b6d37bcc-716f-4fae-a266-0633f3c8d5f8",
   "metadata": {},
   "outputs": [],
   "source": [
    "df_merge_final['Year'] = pd.DatetimeIndex(df_merge_final['trans_date_trans_time']).year"
   ]
  },
  {
   "cell_type": "code",
   "execution_count": 392,
   "id": "3d23a278-9e8c-45c8-9104-dc9272d6ba2f",
   "metadata": {},
   "outputs": [
    {
     "data": {
      "text/html": [
       "<div>\n",
       "<style scoped>\n",
       "    .dataframe tbody tr th:only-of-type {\n",
       "        vertical-align: middle;\n",
       "    }\n",
       "\n",
       "    .dataframe tbody tr th {\n",
       "        vertical-align: top;\n",
       "    }\n",
       "\n",
       "    .dataframe thead th {\n",
       "        text-align: right;\n",
       "    }\n",
       "</style>\n",
       "<table border=\"1\" class=\"dataframe\">\n",
       "  <thead>\n",
       "    <tr style=\"text-align: right;\">\n",
       "      <th></th>\n",
       "      <th>trans_date_trans_time</th>\n",
       "      <th>merchant</th>\n",
       "      <th>category</th>\n",
       "      <th>amt</th>\n",
       "      <th>gender</th>\n",
       "      <th>city</th>\n",
       "      <th>state</th>\n",
       "      <th>lat</th>\n",
       "      <th>long</th>\n",
       "      <th>city_pop</th>\n",
       "      <th>...</th>\n",
       "      <th>dob</th>\n",
       "      <th>merch_lat</th>\n",
       "      <th>merch_long</th>\n",
       "      <th>is_fraud</th>\n",
       "      <th>trans_date</th>\n",
       "      <th>age</th>\n",
       "      <th>distance</th>\n",
       "      <th>trans_month</th>\n",
       "      <th>is_fraud_pred</th>\n",
       "      <th>Year</th>\n",
       "    </tr>\n",
       "  </thead>\n",
       "  <tbody>\n",
       "    <tr>\n",
       "      <th>0</th>\n",
       "      <td>2019-01-01 00:00:18</td>\n",
       "      <td>fraud_Rippin, Kub and Mann</td>\n",
       "      <td>misc_net</td>\n",
       "      <td>4.97</td>\n",
       "      <td>F</td>\n",
       "      <td>Moravian Falls</td>\n",
       "      <td>NC</td>\n",
       "      <td>36.0788</td>\n",
       "      <td>-81.1781</td>\n",
       "      <td>3495</td>\n",
       "      <td>...</td>\n",
       "      <td>1988-03-09</td>\n",
       "      <td>36.011293</td>\n",
       "      <td>-82.048315</td>\n",
       "      <td>0</td>\n",
       "      <td>2019-01-01</td>\n",
       "      <td>31.0</td>\n",
       "      <td>97.05</td>\n",
       "      <td>1</td>\n",
       "      <td>0</td>\n",
       "      <td>2019</td>\n",
       "    </tr>\n",
       "    <tr>\n",
       "      <th>1</th>\n",
       "      <td>2019-01-01 00:00:44</td>\n",
       "      <td>fraud_Heller, Gutmann and Zieme</td>\n",
       "      <td>grocery_pos</td>\n",
       "      <td>107.23</td>\n",
       "      <td>F</td>\n",
       "      <td>Orient</td>\n",
       "      <td>WA</td>\n",
       "      <td>48.8878</td>\n",
       "      <td>-118.2105</td>\n",
       "      <td>149</td>\n",
       "      <td>...</td>\n",
       "      <td>1978-06-21</td>\n",
       "      <td>49.159047</td>\n",
       "      <td>-118.186462</td>\n",
       "      <td>0</td>\n",
       "      <td>2019-01-01</td>\n",
       "      <td>41.0</td>\n",
       "      <td>30.28</td>\n",
       "      <td>1</td>\n",
       "      <td>0</td>\n",
       "      <td>2019</td>\n",
       "    </tr>\n",
       "    <tr>\n",
       "      <th>2</th>\n",
       "      <td>2019-01-01 00:00:51</td>\n",
       "      <td>fraud_Lind-Buckridge</td>\n",
       "      <td>entertainment</td>\n",
       "      <td>220.11</td>\n",
       "      <td>M</td>\n",
       "      <td>Malad City</td>\n",
       "      <td>ID</td>\n",
       "      <td>42.1808</td>\n",
       "      <td>-112.2620</td>\n",
       "      <td>4154</td>\n",
       "      <td>...</td>\n",
       "      <td>1962-01-19</td>\n",
       "      <td>43.150704</td>\n",
       "      <td>-112.154481</td>\n",
       "      <td>0</td>\n",
       "      <td>2019-01-01</td>\n",
       "      <td>57.0</td>\n",
       "      <td>108.51</td>\n",
       "      <td>1</td>\n",
       "      <td>0</td>\n",
       "      <td>2019</td>\n",
       "    </tr>\n",
       "    <tr>\n",
       "      <th>3</th>\n",
       "      <td>2019-01-01 00:01:16</td>\n",
       "      <td>fraud_Kutch, Hermiston and Farrell</td>\n",
       "      <td>gas_transport</td>\n",
       "      <td>45.00</td>\n",
       "      <td>M</td>\n",
       "      <td>Boulder</td>\n",
       "      <td>MT</td>\n",
       "      <td>46.2306</td>\n",
       "      <td>-112.1138</td>\n",
       "      <td>1939</td>\n",
       "      <td>...</td>\n",
       "      <td>1967-01-12</td>\n",
       "      <td>47.034331</td>\n",
       "      <td>-112.561071</td>\n",
       "      <td>0</td>\n",
       "      <td>2019-01-01</td>\n",
       "      <td>52.0</td>\n",
       "      <td>102.28</td>\n",
       "      <td>1</td>\n",
       "      <td>0</td>\n",
       "      <td>2019</td>\n",
       "    </tr>\n",
       "    <tr>\n",
       "      <th>4</th>\n",
       "      <td>2019-01-01 00:03:06</td>\n",
       "      <td>fraud_Keeling-Crist</td>\n",
       "      <td>misc_pos</td>\n",
       "      <td>41.96</td>\n",
       "      <td>M</td>\n",
       "      <td>Doe Hill</td>\n",
       "      <td>VA</td>\n",
       "      <td>38.4207</td>\n",
       "      <td>-79.4629</td>\n",
       "      <td>99</td>\n",
       "      <td>...</td>\n",
       "      <td>1986-03-28</td>\n",
       "      <td>38.674999</td>\n",
       "      <td>-78.632459</td>\n",
       "      <td>0</td>\n",
       "      <td>2019-01-01</td>\n",
       "      <td>33.0</td>\n",
       "      <td>96.57</td>\n",
       "      <td>1</td>\n",
       "      <td>0</td>\n",
       "      <td>2019</td>\n",
       "    </tr>\n",
       "  </tbody>\n",
       "</table>\n",
       "<p>5 rows × 21 columns</p>\n",
       "</div>"
      ],
      "text/plain": [
       "  trans_date_trans_time                            merchant       category  \\\n",
       "0   2019-01-01 00:00:18          fraud_Rippin, Kub and Mann       misc_net   \n",
       "1   2019-01-01 00:00:44     fraud_Heller, Gutmann and Zieme    grocery_pos   \n",
       "2   2019-01-01 00:00:51                fraud_Lind-Buckridge  entertainment   \n",
       "3   2019-01-01 00:01:16  fraud_Kutch, Hermiston and Farrell  gas_transport   \n",
       "4   2019-01-01 00:03:06                 fraud_Keeling-Crist       misc_pos   \n",
       "\n",
       "      amt gender            city state      lat      long  city_pop  ...  \\\n",
       "0    4.97      F  Moravian Falls    NC  36.0788  -81.1781      3495  ...   \n",
       "1  107.23      F          Orient    WA  48.8878 -118.2105       149  ...   \n",
       "2  220.11      M      Malad City    ID  42.1808 -112.2620      4154  ...   \n",
       "3   45.00      M         Boulder    MT  46.2306 -112.1138      1939  ...   \n",
       "4   41.96      M        Doe Hill    VA  38.4207  -79.4629        99  ...   \n",
       "\n",
       "         dob  merch_lat  merch_long  is_fraud  trans_date   age  distance  \\\n",
       "0 1988-03-09  36.011293  -82.048315         0  2019-01-01  31.0     97.05   \n",
       "1 1978-06-21  49.159047 -118.186462         0  2019-01-01  41.0     30.28   \n",
       "2 1962-01-19  43.150704 -112.154481         0  2019-01-01  57.0    108.51   \n",
       "3 1967-01-12  47.034331 -112.561071         0  2019-01-01  52.0    102.28   \n",
       "4 1986-03-28  38.674999  -78.632459         0  2019-01-01  33.0     96.57   \n",
       "\n",
       "   trans_month  is_fraud_pred  Year  \n",
       "0            1              0  2019  \n",
       "1            1              0  2019  \n",
       "2            1              0  2019  \n",
       "3            1              0  2019  \n",
       "4            1              0  2019  \n",
       "\n",
       "[5 rows x 21 columns]"
      ]
     },
     "execution_count": 392,
     "metadata": {},
     "output_type": "execute_result"
    }
   ],
   "source": [
    "df_merge_final.head()"
   ]
  },
  {
   "cell_type": "code",
   "execution_count": 400,
   "id": "df660857-12be-454c-88b0-4a256f9f5f2e",
   "metadata": {},
   "outputs": [
    {
     "data": {
      "text/plain": [
       "Year  trans_month\n",
       "2019  1               52525\n",
       "      2               49866\n",
       "      3               70939\n",
       "      4               68078\n",
       "      5               72532\n",
       "      6               86064\n",
       "      7               86596\n",
       "      8               87359\n",
       "      9               70652\n",
       "      10              68758\n",
       "      11              70421\n",
       "      12             141060\n",
       "2020  1               52202\n",
       "      2               47791\n",
       "      3               72850\n",
       "      4               66892\n",
       "      5               74343\n",
       "      6               87805\n",
       "      7               85848\n",
       "      8               88759\n",
       "      9               69533\n",
       "      10              69348\n",
       "      11              72635\n",
       "      12             139538\n",
       "Name: category, dtype: int64"
      ]
     },
     "execution_count": 400,
     "metadata": {},
     "output_type": "execute_result"
    }
   ],
   "source": [
    "df_merge_final.groupby(['Year','trans_month'])['category'].count()"
   ]
  },
  {
   "cell_type": "code",
   "execution_count": 413,
   "id": "ba718ac3-60c3-4959-bffc-0001714f6517",
   "metadata": {},
   "outputs": [],
   "source": [
    "Average_tns_per_month = df_merge_final.category.count()/24"
   ]
  },
  {
   "cell_type": "code",
   "execution_count": 414,
   "id": "2db7ff50-3a3a-4aac-b0cd-ec1bddee22db",
   "metadata": {},
   "outputs": [
    {
     "name": "stdout",
     "output_type": "stream",
     "text": [
      "Average Number of Transaction Per Month =  77183\n"
     ]
    }
   ],
   "source": [
    "print(\"Average Number of Transaction Per Month = \",round(Average_tns_per_month))"
   ]
  },
  {
   "cell_type": "code",
   "execution_count": 416,
   "id": "1f3dde49-30f2-4de4-a443-044c2375b2a3",
   "metadata": {},
   "outputs": [],
   "source": [
    "avg_fraud_per_month = df_merge_final[df_merge_final['is_fraud']==1].category.count()/24"
   ]
  },
  {
   "cell_type": "code",
   "execution_count": 417,
   "id": "263cddca-b595-47dd-b083-f127b56458ac",
   "metadata": {},
   "outputs": [
    {
     "name": "stdout",
     "output_type": "stream",
     "text": [
      "Average Number of Fradulent Transactions Per Month =  402\n"
     ]
    }
   ],
   "source": [
    "print(\"Average Number of Fradulent Transactions Per Month = \",round(avg_fraud_per_month))"
   ]
  },
  {
   "cell_type": "code",
   "execution_count": 418,
   "id": "167b3ac4-5e52-44c3-be6f-bf66ae96a233",
   "metadata": {},
   "outputs": [],
   "source": [
    "avg_amount_per_fraud = df_merge_final[df_merge_final['is_fraud']==1].amt.mean()"
   ]
  },
  {
   "cell_type": "code",
   "execution_count": 419,
   "id": "bc8850e2-4e5b-4bc7-acae-23d5bf067e8d",
   "metadata": {},
   "outputs": [
    {
     "name": "stdout",
     "output_type": "stream",
     "text": [
      "Average Amount of Fradulent Transactions Per Month =  531\n"
     ]
    }
   ],
   "source": [
    "print(\"Average Amount of Fradulent Transactions Per Month = \",round(avg_amount_per_fraud))"
   ]
  },
  {
   "cell_type": "code",
   "execution_count": 420,
   "id": "c05153e6-e0d9-491c-9953-eb7a8118aa94",
   "metadata": {},
   "outputs": [],
   "source": [
    "avg_fraud_detected_model = df_merge_final[df_merge_final['is_fraud_pred']==1].category.count()/24"
   ]
  },
  {
   "cell_type": "code",
   "execution_count": 421,
   "id": "6a0a7589-03d0-401a-9707-109b468359e5",
   "metadata": {},
   "outputs": [
    {
     "name": "stdout",
     "output_type": "stream",
     "text": [
      "Average Number of Fradulent Transactions as detected by your model =  4037\n"
     ]
    }
   ],
   "source": [
    "print(\"Average Number of Fradulent Transactions as detected by your model = \",round(avg_fraud_detected_model))"
   ]
  },
  {
   "cell_type": "code",
   "execution_count": 424,
   "id": "e3115cac-2077-41e3-84be-d217297f5ff0",
   "metadata": {},
   "outputs": [
    {
     "name": "stdout",
     "output_type": "stream",
     "text": [
      "Number of Transactions that are Fradulent but undetected by model = 18\n"
     ]
    }
   ],
   "source": [
    "# Average number of transactions per month that are fraudulent but are not detected by the model\n",
    "\n",
    "Undetected_frauds = df_merge_final.loc[(df_merge_final.is_fraud_pred==0) & (df_merge_final.is_fraud==1)]\n",
    "print(\"Number of Transactions that are Fradulent but undetected by model =\", round(Undetected_frauds.category.count()/24))"
   ]
  },
  {
   "cell_type": "code",
   "execution_count": null,
   "id": "a228e21f-dcac-414d-b2b1-4bf31e328954",
   "metadata": {},
   "outputs": [],
   "source": []
  }
 ],
 "metadata": {
  "kernelspec": {
   "display_name": "Python 3 (ipykernel)",
   "language": "python",
   "name": "python3"
  },
  "language_info": {
   "codemirror_mode": {
    "name": "ipython",
    "version": 3
   },
   "file_extension": ".py",
   "mimetype": "text/x-python",
   "name": "python",
   "nbconvert_exporter": "python",
   "pygments_lexer": "ipython3",
   "version": "3.11.7"
  }
 },
 "nbformat": 4,
 "nbformat_minor": 5
}
